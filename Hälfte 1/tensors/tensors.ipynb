{
 "cells": [
  {
   "cell_type": "markdown",
   "metadata": {},
   "source": [
    "# Manipulating high dimensional tensors\n",
    "\n",
    "<a href=\"https://colab.research.google.com/github/EffiSciencesResearch/ML4G-2.0/blob/master/workshops/tensors/tensors.ipynb\" target=\"_parent\"><img src=\"https://colab.research.google.com/assets/colab-badge.svg\" alt=\"Open In Colab\"/></a>\n",
    "\n",
    "Thanks to Callum McDougall for this Notebook that was adapted from the prerequisites of [ARENA 3.0](https://arena3-chapter0-fundamentals.streamlit.app/[0.0]_Prerequisites).\n",
    "\n",
    "<img src=\"https://raw.githubusercontent.com/callummcdougall/computational-thread-art/master/example_images/misc/pres2.png\" width=\"350\">\n",
    "\n",
    "This notebook contains important prerequisites for the rest of the technical material.\n",
    "\n",
    "\n",
    "> ### Learning objectives\n",
    ">\n",
    "> - Be more familiar manipulating tensors with multiple dimensions\n",
    "> - Understand the basics of Einstein summation convention\n",
    "> - Learn how to use `einops` to perform basic tensor rearrangement, and `einsum` to to perform standard linear algebra operations on tensors\n",
    "> - Remember: the goal is not to pass the exercises but to understand what happens and why.\n",
    "\n",
    "**Note**: this section contains a large number of exercises. You should generally feel free to skim through them (skipping some or most) if you feel comfortable with the basic ideas.\n",
    "A good rule is to stop once you are familiar enough so that you know that you will be able to solve the other exercises without too much effort. However this point is not the same for everyone, that's why we have a lot of exercises for those who want to."
   ]
  },
  {
   "cell_type": "markdown",
   "metadata": {},
   "source": [
    "## Setup (don't read, just run!)"
   ]
  },
  {
   "cell_type": "code",
   "execution_count": null,
   "metadata": {},
   "outputs": [],
   "source": [
    "try:\n",
    "    import google.colab\n",
    "\n",
    "    IN_COLAB = True\n",
    "except:\n",
    "    IN_COLAB = False\n",
    "\n",
    "if IN_COLAB:\n",
    "    # Install packages\n",
    "    %pip install einops\n",
    "\n",
    "    # Code to make sure output widgets display\n",
    "    from google.colab import output\n",
    "\n",
    "    output.enable_custom_widget_manager()\n",
    "\n",
    "    !wget -q https://github.com/EffiSciencesResearch/ML4G-2.0/archive/refs/heads/master.zip\n",
    "    !unzip -o /content/master.zip 'ML4G-2.0-master/workshops/tensors/*'\n",
    "    !mv --no-clobber ML4G-2.0-master/workshops/tensors/* .\n",
    "    !rm -r ML4G-2.0-master\n",
    "\n",
    "    print(\"Imports & installations complete!\")\n",
    "\n",
    "else:\n",
    "    from IPython import get_ipython\n",
    "\n",
    "    ipython = get_ipython()\n",
    "    ipython.run_line_magic(\"load_ext\", \"autoreload\")\n",
    "    ipython.run_line_magic(\"autoreload\", \"2\")"
   ]
  },
  {
   "cell_type": "code",
   "execution_count": 1,
   "metadata": {},
   "outputs": [],
   "source": [
    "import math\n",
    "import numpy as np\n",
    "import einops\n",
    "import torch\n",
    "from torch import Tensor\n",
    "\n",
    "from utils import show_array_as_img, show_target_image\n",
    "import tests"
   ]
  },
  {
   "cell_type": "markdown",
   "metadata": {},
   "source": [
    "## Einops\n",
    "\n",
    "### Reading\n",
    "\n",
    "* Read about the benefits of the `einops` library [here](https://www.blopig.com/blog/2022/05/einops-powerful-library-for-tensor-operations-in-deep-learning/).\n",
    "* If you haven't already, then review the [Einops basics tutorial](https://einops.rocks/1-einops-basics/) (up to the \"fancy examples\" section). Try not to look it up too much while you're doing the exercises.\n"
   ]
  },
  {
   "cell_type": "code",
   "execution_count": 3,
   "metadata": {},
   "outputs": [],
   "source": [
    "arr = np.load(\"numbers.npy\")"
   ]
  },
  {
   "cell_type": "markdown",
   "metadata": {},
   "source": [
    "`arr` is a 4D numpy array. The first axes corresponds to the number from 0 to 5, and the next three axes are channels (i.e. RGB), height and width respectively. You have the function `show_array_as_img` which takes in a numpy array and displays it as an image. There are two possible ways this function can be run:\n",
    "\n",
    "* If the input is three-dimensional, the dimensions are interpreted as `(channel, height, width)` - in other words, as an RGB image.\n",
    "* If the input is two-dimensional, the dimensions are interpreted as `(height, width)` - i.e. a monochrome image.\n",
    "\n",
    "For example:"
   ]
  },
  {
   "cell_type": "code",
   "execution_count": 4,
   "metadata": {},
   "outputs": [
    {
     "name": "stdout",
     "output_type": "stream",
     "text": [
      "(6, 3, 150, 150)\n"
     ]
    },
    {
     "data": {
      "application/vnd.plotly.v1+json": {
       "config": {
        "displayModeBar": false,
        "plotlyServerURL": "https://plot.ly"
       },
       "data": [
        {
         "hovertemplate": "x: %{x}<br>y: %{y}<br>color: [%{z[0]}, %{z[1]}, %{z[2]}]<extra></extra>",
         "name": "0",
         "source": "data:image/png;base64,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",
         "type": "image",
         "xaxis": "x",
         "yaxis": "y"
        }
       ],
       "layout": {
        "coloraxis": {
         "showscale": false
        },
        "height": 150,
        "margin": {
         "b": 0,
         "l": 0,
         "r": 0,
         "t": 0
        },
        "template": {
         "data": {
          "bar": [
           {
            "error_x": {
             "color": "#2a3f5f"
            },
            "error_y": {
             "color": "#2a3f5f"
            },
            "marker": {
             "line": {
              "color": "#E5ECF6",
              "width": 0.5
             },
             "pattern": {
              "fillmode": "overlay",
              "size": 10,
              "solidity": 0.2
             }
            },
            "type": "bar"
           }
          ],
          "barpolar": [
           {
            "marker": {
             "line": {
              "color": "#E5ECF6",
              "width": 0.5
             },
             "pattern": {
              "fillmode": "overlay",
              "size": 10,
              "solidity": 0.2
             }
            },
            "type": "barpolar"
           }
          ],
          "carpet": [
           {
            "aaxis": {
             "endlinecolor": "#2a3f5f",
             "gridcolor": "white",
             "linecolor": "white",
             "minorgridcolor": "white",
             "startlinecolor": "#2a3f5f"
            },
            "baxis": {
             "endlinecolor": "#2a3f5f",
             "gridcolor": "white",
             "linecolor": "white",
             "minorgridcolor": "white",
             "startlinecolor": "#2a3f5f"
            },
            "type": "carpet"
           }
          ],
          "choropleth": [
           {
            "colorbar": {
             "outlinewidth": 0,
             "ticks": ""
            },
            "type": "choropleth"
           }
          ],
          "contour": [
           {
            "colorbar": {
             "outlinewidth": 0,
             "ticks": ""
            },
            "colorscale": [
             [
              0,
              "#0d0887"
             ],
             [
              0.1111111111111111,
              "#46039f"
             ],
             [
              0.2222222222222222,
              "#7201a8"
             ],
             [
              0.3333333333333333,
              "#9c179e"
             ],
             [
              0.4444444444444444,
              "#bd3786"
             ],
             [
              0.5555555555555556,
              "#d8576b"
             ],
             [
              0.6666666666666666,
              "#ed7953"
             ],
             [
              0.7777777777777778,
              "#fb9f3a"
             ],
             [
              0.8888888888888888,
              "#fdca26"
             ],
             [
              1,
              "#f0f921"
             ]
            ],
            "type": "contour"
           }
          ],
          "contourcarpet": [
           {
            "colorbar": {
             "outlinewidth": 0,
             "ticks": ""
            },
            "type": "contourcarpet"
           }
          ],
          "heatmap": [
           {
            "colorbar": {
             "outlinewidth": 0,
             "ticks": ""
            },
            "colorscale": [
             [
              0,
              "#0d0887"
             ],
             [
              0.1111111111111111,
              "#46039f"
             ],
             [
              0.2222222222222222,
              "#7201a8"
             ],
             [
              0.3333333333333333,
              "#9c179e"
             ],
             [
              0.4444444444444444,
              "#bd3786"
             ],
             [
              0.5555555555555556,
              "#d8576b"
             ],
             [
              0.6666666666666666,
              "#ed7953"
             ],
             [
              0.7777777777777778,
              "#fb9f3a"
             ],
             [
              0.8888888888888888,
              "#fdca26"
             ],
             [
              1,
              "#f0f921"
             ]
            ],
            "type": "heatmap"
           }
          ],
          "heatmapgl": [
           {
            "colorbar": {
             "outlinewidth": 0,
             "ticks": ""
            },
            "colorscale": [
             [
              0,
              "#0d0887"
             ],
             [
              0.1111111111111111,
              "#46039f"
             ],
             [
              0.2222222222222222,
              "#7201a8"
             ],
             [
              0.3333333333333333,
              "#9c179e"
             ],
             [
              0.4444444444444444,
              "#bd3786"
             ],
             [
              0.5555555555555556,
              "#d8576b"
             ],
             [
              0.6666666666666666,
              "#ed7953"
             ],
             [
              0.7777777777777778,
              "#fb9f3a"
             ],
             [
              0.8888888888888888,
              "#fdca26"
             ],
             [
              1,
              "#f0f921"
             ]
            ],
            "type": "heatmapgl"
           }
          ],
          "histogram": [
           {
            "marker": {
             "pattern": {
              "fillmode": "overlay",
              "size": 10,
              "solidity": 0.2
             }
            },
            "type": "histogram"
           }
          ],
          "histogram2d": [
           {
            "colorbar": {
             "outlinewidth": 0,
             "ticks": ""
            },
            "colorscale": [
             [
              0,
              "#0d0887"
             ],
             [
              0.1111111111111111,
              "#46039f"
             ],
             [
              0.2222222222222222,
              "#7201a8"
             ],
             [
              0.3333333333333333,
              "#9c179e"
             ],
             [
              0.4444444444444444,
              "#bd3786"
             ],
             [
              0.5555555555555556,
              "#d8576b"
             ],
             [
              0.6666666666666666,
              "#ed7953"
             ],
             [
              0.7777777777777778,
              "#fb9f3a"
             ],
             [
              0.8888888888888888,
              "#fdca26"
             ],
             [
              1,
              "#f0f921"
             ]
            ],
            "type": "histogram2d"
           }
          ],
          "histogram2dcontour": [
           {
            "colorbar": {
             "outlinewidth": 0,
             "ticks": ""
            },
            "colorscale": [
             [
              0,
              "#0d0887"
             ],
             [
              0.1111111111111111,
              "#46039f"
             ],
             [
              0.2222222222222222,
              "#7201a8"
             ],
             [
              0.3333333333333333,
              "#9c179e"
             ],
             [
              0.4444444444444444,
              "#bd3786"
             ],
             [
              0.5555555555555556,
              "#d8576b"
             ],
             [
              0.6666666666666666,
              "#ed7953"
             ],
             [
              0.7777777777777778,
              "#fb9f3a"
             ],
             [
              0.8888888888888888,
              "#fdca26"
             ],
             [
              1,
              "#f0f921"
             ]
            ],
            "type": "histogram2dcontour"
           }
          ],
          "mesh3d": [
           {
            "colorbar": {
             "outlinewidth": 0,
             "ticks": ""
            },
            "type": "mesh3d"
           }
          ],
          "parcoords": [
           {
            "line": {
             "colorbar": {
              "outlinewidth": 0,
              "ticks": ""
             }
            },
            "type": "parcoords"
           }
          ],
          "pie": [
           {
            "automargin": true,
            "type": "pie"
           }
          ],
          "scatter": [
           {
            "fillpattern": {
             "fillmode": "overlay",
             "size": 10,
             "solidity": 0.2
            },
            "type": "scatter"
           }
          ],
          "scatter3d": [
           {
            "line": {
             "colorbar": {
              "outlinewidth": 0,
              "ticks": ""
             }
            },
            "marker": {
             "colorbar": {
              "outlinewidth": 0,
              "ticks": ""
             }
            },
            "type": "scatter3d"
           }
          ],
          "scattercarpet": [
           {
            "marker": {
             "colorbar": {
              "outlinewidth": 0,
              "ticks": ""
             }
            },
            "type": "scattercarpet"
           }
          ],
          "scattergeo": [
           {
            "marker": {
             "colorbar": {
              "outlinewidth": 0,
              "ticks": ""
             }
            },
            "type": "scattergeo"
           }
          ],
          "scattergl": [
           {
            "marker": {
             "colorbar": {
              "outlinewidth": 0,
              "ticks": ""
             }
            },
            "type": "scattergl"
           }
          ],
          "scattermapbox": [
           {
            "marker": {
             "colorbar": {
              "outlinewidth": 0,
              "ticks": ""
             }
            },
            "type": "scattermapbox"
           }
          ],
          "scatterpolar": [
           {
            "marker": {
             "colorbar": {
              "outlinewidth": 0,
              "ticks": ""
             }
            },
            "type": "scatterpolar"
           }
          ],
          "scatterpolargl": [
           {
            "marker": {
             "colorbar": {
              "outlinewidth": 0,
              "ticks": ""
             }
            },
            "type": "scatterpolargl"
           }
          ],
          "scatterternary": [
           {
            "marker": {
             "colorbar": {
              "outlinewidth": 0,
              "ticks": ""
             }
            },
            "type": "scatterternary"
           }
          ],
          "surface": [
           {
            "colorbar": {
             "outlinewidth": 0,
             "ticks": ""
            },
            "colorscale": [
             [
              0,
              "#0d0887"
             ],
             [
              0.1111111111111111,
              "#46039f"
             ],
             [
              0.2222222222222222,
              "#7201a8"
             ],
             [
              0.3333333333333333,
              "#9c179e"
             ],
             [
              0.4444444444444444,
              "#bd3786"
             ],
             [
              0.5555555555555556,
              "#d8576b"
             ],
             [
              0.6666666666666666,
              "#ed7953"
             ],
             [
              0.7777777777777778,
              "#fb9f3a"
             ],
             [
              0.8888888888888888,
              "#fdca26"
             ],
             [
              1,
              "#f0f921"
             ]
            ],
            "type": "surface"
           }
          ],
          "table": [
           {
            "cells": {
             "fill": {
              "color": "#EBF0F8"
             },
             "line": {
              "color": "white"
             }
            },
            "header": {
             "fill": {
              "color": "#C8D4E3"
             },
             "line": {
              "color": "white"
             }
            },
            "type": "table"
           }
          ]
         },
         "layout": {
          "annotationdefaults": {
           "arrowcolor": "#2a3f5f",
           "arrowhead": 0,
           "arrowwidth": 1
          },
          "autotypenumbers": "strict",
          "coloraxis": {
           "colorbar": {
            "outlinewidth": 0,
            "ticks": ""
           }
          },
          "colorscale": {
           "diverging": [
            [
             0,
             "#8e0152"
            ],
            [
             0.1,
             "#c51b7d"
            ],
            [
             0.2,
             "#de77ae"
            ],
            [
             0.3,
             "#f1b6da"
            ],
            [
             0.4,
             "#fde0ef"
            ],
            [
             0.5,
             "#f7f7f7"
            ],
            [
             0.6,
             "#e6f5d0"
            ],
            [
             0.7,
             "#b8e186"
            ],
            [
             0.8,
             "#7fbc41"
            ],
            [
             0.9,
             "#4d9221"
            ],
            [
             1,
             "#276419"
            ]
           ],
           "sequential": [
            [
             0,
             "#0d0887"
            ],
            [
             0.1111111111111111,
             "#46039f"
            ],
            [
             0.2222222222222222,
             "#7201a8"
            ],
            [
             0.3333333333333333,
             "#9c179e"
            ],
            [
             0.4444444444444444,
             "#bd3786"
            ],
            [
             0.5555555555555556,
             "#d8576b"
            ],
            [
             0.6666666666666666,
             "#ed7953"
            ],
            [
             0.7777777777777778,
             "#fb9f3a"
            ],
            [
             0.8888888888888888,
             "#fdca26"
            ],
            [
             1,
             "#f0f921"
            ]
           ],
           "sequentialminus": [
            [
             0,
             "#0d0887"
            ],
            [
             0.1111111111111111,
             "#46039f"
            ],
            [
             0.2222222222222222,
             "#7201a8"
            ],
            [
             0.3333333333333333,
             "#9c179e"
            ],
            [
             0.4444444444444444,
             "#bd3786"
            ],
            [
             0.5555555555555556,
             "#d8576b"
            ],
            [
             0.6666666666666666,
             "#ed7953"
            ],
            [
             0.7777777777777778,
             "#fb9f3a"
            ],
            [
             0.8888888888888888,
             "#fdca26"
            ],
            [
             1,
             "#f0f921"
            ]
           ]
          },
          "colorway": [
           "#636efa",
           "#EF553B",
           "#00cc96",
           "#ab63fa",
           "#FFA15A",
           "#19d3f3",
           "#FF6692",
           "#B6E880",
           "#FF97FF",
           "#FECB52"
          ],
          "font": {
           "color": "#2a3f5f"
          },
          "geo": {
           "bgcolor": "white",
           "lakecolor": "white",
           "landcolor": "#E5ECF6",
           "showlakes": true,
           "showland": true,
           "subunitcolor": "white"
          },
          "hoverlabel": {
           "align": "left"
          },
          "hovermode": "closest",
          "mapbox": {
           "style": "light"
          },
          "paper_bgcolor": "white",
          "plot_bgcolor": "#E5ECF6",
          "polar": {
           "angularaxis": {
            "gridcolor": "white",
            "linecolor": "white",
            "ticks": ""
           },
           "bgcolor": "#E5ECF6",
           "radialaxis": {
            "gridcolor": "white",
            "linecolor": "white",
            "ticks": ""
           }
          },
          "scene": {
           "xaxis": {
            "backgroundcolor": "#E5ECF6",
            "gridcolor": "white",
            "gridwidth": 2,
            "linecolor": "white",
            "showbackground": true,
            "ticks": "",
            "zerolinecolor": "white"
           },
           "yaxis": {
            "backgroundcolor": "#E5ECF6",
            "gridcolor": "white",
            "gridwidth": 2,
            "linecolor": "white",
            "showbackground": true,
            "ticks": "",
            "zerolinecolor": "white"
           },
           "zaxis": {
            "backgroundcolor": "#E5ECF6",
            "gridcolor": "white",
            "gridwidth": 2,
            "linecolor": "white",
            "showbackground": true,
            "ticks": "",
            "zerolinecolor": "white"
           }
          },
          "shapedefaults": {
           "line": {
            "color": "#2a3f5f"
           }
          },
          "ternary": {
           "aaxis": {
            "gridcolor": "white",
            "linecolor": "white",
            "ticks": ""
           },
           "baxis": {
            "gridcolor": "white",
            "linecolor": "white",
            "ticks": ""
           },
           "bgcolor": "#E5ECF6",
           "caxis": {
            "gridcolor": "white",
            "linecolor": "white",
            "ticks": ""
           }
          },
          "title": {
           "x": 0.05
          },
          "xaxis": {
           "automargin": true,
           "gridcolor": "white",
           "linecolor": "white",
           "ticks": "",
           "title": {
            "standoff": 15
           },
           "zerolinecolor": "white",
           "zerolinewidth": 2
          },
          "yaxis": {
           "automargin": true,
           "gridcolor": "white",
           "linecolor": "white",
           "ticks": "",
           "title": {
            "standoff": 15
           },
           "zerolinecolor": "white",
           "zerolinewidth": 2
          }
         }
        },
        "width": 150,
        "xaxis": {
         "anchor": "y",
         "domain": [
          0,
          1
         ],
         "showticklabels": false
        },
        "yaxis": {
         "anchor": "x",
         "domain": [
          0,
          1
         ],
         "showticklabels": false
        }
       }
      }
     },
     "metadata": {},
     "output_type": "display_data"
    }
   ],
   "source": [
    "# To understand tensors and their transformation, printing their shape is very useful\n",
    "print(arr.shape)\n",
    "# Here, ploting 3D slices will also be useful\n",
    "show_array_as_img(arr[0])"
   ]
  },
  {
   "cell_type": "markdown",
   "metadata": {},
   "source": [
    "A series of images follow below, which have been created using `einops` functions performed on `arr`. You should work through these and try to produce each of the images yourself. This page also includes solutions, but you should only look at them after you've tried for at least five minutes.\n",
    "\n",
    "> *Note - if you find you're comfortable with the first ~half of these, you can skip to later sections if you'd prefer, since these aren't particularly conceptually important.*\n"
   ]
  },
  {
   "cell_type": "markdown",
   "metadata": {},
   "source": [
    "### Einops exercises - images\n",
    "\n",
    "```c\n",
    "Difficulty: 🔴🔴⚪⚪⚪\n",
    "Importance: 🔵🔵🔵⚪⚪\n",
    "\n",
    "You should spend up to ~45 minutes on these exercises collectively.\n",
    "\n",
    "If you think you get the general idea, then you can skip to the next section.\n",
    "```\n"
   ]
  },
  {
   "cell_type": "markdown",
   "metadata": {},
   "source": [
    "#### Exercise 1\n"
   ]
  },
  {
   "cell_type": "code",
   "execution_count": 5,
   "metadata": {},
   "outputs": [
    {
     "data": {
      "application/vnd.plotly.v1+json": {
       "config": {
        "displayModeBar": false,
        "plotlyServerURL": "https://plot.ly"
       },
       "data": [
        {
         "hovertemplate": "x: %{x}<br>y: %{y}<br>color: [%{z[0]}, %{z[1]}, %{z[2]}]<extra></extra>",
         "name": "0",
         "source": "data:image/png;base64,iVBORw0KGgoAAAANSUhEUgAAA4QAAACWCAIAAAAJ2tFhAAAqBUlEQVR4Xu3dZ1xUV/c24D1DH3q1AAqi2FDsir3FbuyJMepjb9GYWGOLvcbYNfbeYom9xa6oARtFRAUE6b0zwAAz7wf/kxdX5oyUgXNG7uvD8+FeSPjpM8OaffZeW6R4voeBVnvRhCagVV6Me0Ej0C57x9EEtApeg1oPvwe1nJgGAAAAAADlBc0oAAAAAPAGzSgAAAAA8AbNKAAAAADwBs0oAAAAAPAGzSgAAAAA8AbNKAAAAADwBs0oAAAAAPAGzSgAAAAA8AbNKAAAAADwBs0oAAAAAPAGzSgAAAAA8AbNKAAAAADwBs0oAAAAAPAGzSgAAAAA8AbNKAAAAADwBs0oAAAAAPAGzSgAAAAA8AbNKAAAAADwBs0oAAAAAPAGzSgAAAAA8AbNKAAAAADwBs0oAAAAAPAGzSgAAAAA8AbNKAAAAADwBs0oAAAAAPAGzSgAAAAA8AbNKAAAAADwBs0oAAAAAPAGzSgAAAAA8AbNKAAAAADwBs0oAAAAAPAGzSgAAAAA8AbNKAAAAADwBs0oAAAAAPAGzSgAAAAA8AbNKAAAAADwBs0oAAAAAPAGzSgAAAAA8EaXBlorV5b/8GWQp0+Q77vI91EJ0QmpWdm5srwCiaG+mYmhjYVpvRpV6jlX7dDUtbW7i44YXbj2+Xrbz5d8HxRO7s7a3bF208IJ8CgyJMH/n/dvXoaHvYlNiEpJiEnLkcpys2UikcjASF9iYmDnYFnZ0dLFzb5u0+qN2tQ0szKm3wL4I8vLeRn00P/9P28jfKITw+JTo6Q5GbK8HEN9iYmRuZmxlVOVOjWrutVzbt68did9PUP650F73PvjzLEpq2nK2LqIq5YOlWgKUPa+hGb0sW/IzrP3/7rzIis7l9YYy5DmZEhzouJTfd9FfEwszSQDOjX5aVjXBjXtP/1aEK6br71IJwoC8f519IX9j+5f8IkIjqc1pfy87Kz07ITo1ADv0NtnXzDGxDrihh41un3bvPcIDxNzI/oHoLwoFAqv1zfPPdzj6X81RyalZcakuZnS3Mz41KjgKP9b7DRjzFBf0qreV1+3HdOuYR+xCB/stUx8UPjpWRtpCuXrxuHfzmyeQ9OyMWv33dpNO9JUYLS7GfV5GzFjw6m7z97Qglop6dL9Fzz3X/Ds2cZt48xva1evTL8CBEYqy5l2Yi1NgW8vHrzbteTSs7vFewF+JC+Q+3gG+3gGb/3lr4ET2o9d0Mvc2oR+EZSxez4Xdl74NSjSjxbUypFJ7/lcuOdzwcHWZUT3WQPbjReLdegXgSDJ8wv2jlgkk+bQApSv8LcvaVSxaeuH2vwC+YLt55oNX1HcTrSwa49euQ9dumzPJblcQWsgJNNOrHsb+4GmwJ+E6NTZg/4Y3+G3knWihWVn5R7beLNvjflnd92nNSgz8alRP23tO3N7/+J2ooVFJoSsPjp52PImL4Me0hoI0pWV+0K9XtEUyl34GzSjn9DKZjRTmtv9h42r9l8tkMtprZhyZfmLd17s89OWtMxsWgNhOO51fb/nBZoCfx5d9R9Sf/Gdv17QQilkpWevmnT0x95bMtPwSixz3oG3hy1r/NDvMi2USFCk3/jfOuy6uEShwKd6QQt7GnB5xV6aQrnLzc6KC39H04pN+5rRtMzsbj9svPO0tOsxhV179Krd2LXJ6Vm0AHzzDPYZe2gpTYE/xzbe/Knv1oxUFZsLS+/RVf/RrdfEhifTAmjOde8T0zb3TMlIoIVSUCgUuy8t/Xnb17I8PP8VqLzs3H0jFsnzC2gByl3kO19FqZfSvjBa1oxmZed2mfT7E78QWig1/+ConlM3Z0pVHIECvryOfv/11p9z8mS0ADw5sv7GhhmnynRby/vX0RM7r0+MSaMF0ISbz04t2js8vyCPFjThod/lOTuHlNE3h1I6NWtj7FtsdhKED280+Vjpy6BlB5gmrjzyPPAzL6dqla16tW3QyNWxqq2FkYF+elZ2SGTCP/7vrz9+Jc1R19Z4B4SOXXbwzzUTaQH48C7uQ7eNP6RI02kBeHLrzPNNs8/QVBWX+lVbdK1r72xraWtiYWOSI5WlJmYmxqb7Pgp++TAoO+szH/kiQxKm9th08Mk8Q4k+rUEp+IU8+XXfSLniM0syZhLLprU7NqrZxtq8soWJjSw/NyUjISYx7OnbuwGh3up7zYd+l1cdnfTr//bRAvAq4MaTeztO0xR4EoHTS/+hTc3orrP3j13zomkhzeo5LZvUr0fr+iKRiNYYy8rO3XX2weoDVxNTM2lN6dTNZ11a1J0wsD0tQPl6FRXSdcOkuHQ8rhWK8KD4JaMO0PRTxmZG3//cdeCE9rZVLWhNKT+v4MEl370rrrx9GU5rhQT5RS4ff3jlsXG0ACWVIU2dv+c7Wb66TwIuVeuP6b2gW7NvVJ6On8xYWmbS0Zsb/ry7LSub81PiBc/9HvW7f9XsG1oAnmQlpx8cg81OAoLTS/+lNc1oSGTC9PUnaaokFouWT+7/y6ieYrGKNvQjYyODGcO/Gt6r1dhlBy8/5DxAOnPjqT7tGla1taAFKC/eoQG9tkxLysSDWqFQKBQrxh9Sv6I5aGKHqasGfHaOva6eTueBTToPbHLj5NMVEw5LMzi3GF4/7tV1cNNOAxrTApTIpjOzY5I4HyuJReIJfReP7bNQ/dxQcxPrHwas/KbTD3N3DvENeUzLSquOTGpZt6uZsRUtAB+OTlqZGq3JLcJQGvl5suj3ATRljDHm3r7vV8Nn0LTUHF0b0Uh4tKYZnbvlTK4sn6aMMcZ0xOLjq8Z/81UzWlDFzsr0woapMzb8ufnEbVpjjDGWKc2ds/nM0RVYkuHHCe/rYw4uxT5RQblx8unz+5xnP3V0xXO3DRs0sQMtqNV9aPM6jR1nDtgRGhhDa0q//XiiTU83fUM9WoBieh327IIn56NzfV2DDVMveNTvTgscbC2q7p59b/H+/133PkFrjDHG0qUpB66tmT54HS1AuXty5Mqz07doCvyJfh+Qz/ELzq1NT+FPpy8j6j4EC8cj3+Cztzk3/G6bO6yInehHYrFo06yhkwZz/u48ds3rsztTQeMUCsXC8zuG7VmATlRQ5HLF7qWXaFrIqhMTituJflS9duWdt2dWcuRcP4uLTDm3FwMsNWDXJc65SyKRaMmYg0XvRD/S1dFbMvpgE1fOHU1/3tmm2QP7UALJ4bEnpuEjgbCoeUbvVK85jSoM7WhGf9lylkZK33ZrrqatVGPrnGEdmrrSVGn1gas0grIUlRrfbeMPK69wLt4AXzyv+H14G0tTpZGzu3cd3JSmRWZTxXzLlR+NjA1oQenYRizqlFZIdICn3xWaKn3XZXr35kNpWgR6uvqrxp8w1JfQAmOMsdy87Bsc66ZQPhQKxYFRi7PTOM9IAC+4Ti/p6uk71GpI0wpDC5pRv6BIT59gmjLGGDORGPz+cwm3yevqiI8sHysxVH1c99zdl+8+xNEUysaZ57caLvn2VqC602nAl/Pca5O1GjpMWz2QpsVUs4H9qLk9aKoU9T7B97HmR7lVKOcfcs45tzCxmdB3MU2LzNai6vBuM2mqdPWfozSCcnRzw7E3d5/RFPjGNdfJwdVdV091Q1IRaEEzuuss5yWBPw7tYm9nQdMic6xk9cvonjRljH18NPnXA5qCpkWnJny3e/6QnXOTszgP5wKPstKzH13jvDxwzPxeYh0NvIcMn9nNzt6CpkoPLvnSCIpMrpBf9zpOU6UxveabSixoWhwD242nkdLrD88ys3EMkR9Rr0LOLdhOU8bEujqVXKvTFMqLQi6PDFJ9ftq5fgsaVSQa+EVSpqQ5sqNXVS+Y6eqIpwzpRNNimvpNZyMD1ccjjl3zKv11o8AlX17w+99H6ywaePLpDVr7lMpBXVA+/rkZmJ+n+soWx5p2XYcUY6+2GoYS/V7DW9FU6QX32Sn4rIBQ7+SMeJoyxhjT1dHr7TGCpsVUycrR1dGdpowxxhQKxeswrMzxIF+Wt2/4wvxcFZvvey8Ya9+gJk2hvMRFBOVKVW+ccKpfcTeMMuE3oxfu+aRnqb6ruk8799Isi35kaSb5rkdLmjLGGItNSvv7yWuaQqkpFIqPz+Vnnd6YkfOZWyXbuzaZ1GEQTaG8PL0TSCOlzgObqJmkVlzt+6puaBhjQX6RNIIiexLA+WGvtVsPCxMbmhafqwPnv11YrCbvbYYiurDojwhfFR/hqjet22chBsXwKTxQ9TN6VrFPLzEtaEbv+9BIaUAnzQwgHNSlCY2U1PzXoWQu+NxrvHzYkJ1zA2NCae0/BjbpfOOn7WaGJrQA5eX10zAaKTXtWJtGpdDAw0VHV/XbUXZWLm4HLTG/kCc0UmrToBeNSsTavDKNlNKzcG9FeQv29Lmx/ghNGdMz1B9zeJlYV8V1BlBuwjlOLxlITKo41aFpRSLoOaMKheLvf1TPhtURi3u3a0DTEuncvI7EUF/lTaFXPf1pBKUQmRLXfzvncYfCRCLR4r4Tfu0zHs/oeSQvkHOtSorFosZtNfmwTywWWdqacjWdKQkZNlXMaQpF0KJuF31dg+Ao/+ikMDLdqYGz6odCxSUxNKWRUmYO9oKXq5wM6b6RvypUbTAbsGpq1Xo1aArli6sZrV63qUis+tN4BSHoZtQvKDIlXfVj3Ia1HKzNNbNgZqiv18a95k0vFU/kI+KS/YOjGtS0pwUoS5XMrA6OXtrDrTUtQPmKi0yR5aq+acLc2kRiakjT0rGuZMbVjEoz1V3+BGqM7D57ZPfZjDFpTkZw1KugSL/gKP+gSL/IhJCaDpr5PC/NyaCRkrEBZ58KZeHEj+sSQ6Noyphrh6ZdfxpGUyh3ERxDRp0r9jN6JvBm9JEv50iX1u4uNCqFFm7OKptRxtjDl0FoRstTn4bt9o361c7Uihag3EWHJdFIycJGMx8FCysoULGc85EGN6dWWBJD04YuHg1dPGih1KIS3tNICTeClqeX5+89PqjifgpDU8mYg0vwlIl3ybHhmWmq31Qr+OklJvBmVM01SK0aaPJxQ0s3Zxop/eP/fsqQjjSFMmBjYrFp6KzvW6oetgXlr6FHjb/erkiMTo2PSo2PSkmITk2ISk2ITo2PSlUzianE4qNSaaRkbKbhVVjQoICwpzRSqmnvRiMoG+lxyUcmrKApY4yxbzfOtHaqSlMod7h7SQ1BN6M+b8NppOTmosnVyno1OF+oan4G0BSRSDSqdd91g6fbmFjQGvBHT1+3umul6q6VaKEMJMakpSdn0VTJupIZjUAY3oa/jElSvWogFuvUc6rov2LLzaFxyzISUmjKWMM+7dqO7U9T4EM4x7h7E3NrG3vOFbEKQtDN6FuOO5BEIpFrdU3+gnSqaq2nq5OXr2Ke4tsPcQVyuU7F3llcplo6u235bk4L5/q0ABXJs3tvaaRkYWNibq35XQGgEUdvbqCRUvM6nY0MjGkKZeDB7r/8Lqu4Kc3E2nzknkU0BZ5wnV7CM3om5GY0Kj41K1v1qQXHSpZc13iWjI5Y7Gxvo/L+T1lefnhMsrO9BqbxAVHTznHlgB++afYVLUDFc+fscxopubo70giE4WXQw2tex2iq1K/tGBpBGUgIiTw1Q/VHguE755tXtqYp8ISzGf3PM3ppekpY4LPQV95hr58mx4RnZaRI05Jzs7P0DSWGJmbWlavZOdasXq+Za+P2Dq7uX8ZuYOE2o6HRiTRSql5F868ux0pWKptRxlhYTCKaUc2qZVdtXq/RIzx664ox9A5Yclz6g0uqr8hjjDXvXKHH7wlWZELI3F3fkHFR/6pmV6tLE1xXUebkBfJ9IxblqroapuWwHk0Hd6Up8CQjJSElTvWkvH9XRnOlmS/unvO6dizQ65ZcruJRbY40I0eakRofFeL35MmVI4wxq8rVWvT4rsPAidr+oF+4zWhELOe05Kq2FjQqtcrWnJvSImJVbMSBEhCJRJ3qNJva6dt+jTpi5wP86/jm23ky1TOkGGNteuIQjOD4Bj+as3NIUlosLShNH7xOV0f1TcugQddW7w95ouKDnIW93bBtc2kK/OFaFmWMOdVvnpYUe+3Amofn9sg+dyshkRwbfv3g2r+P/N6i+9D+U1ZYV6lOv0JLCLcZjVK1F/ujsmlGOUdqxySqnn0IxWVvYXdn5i6aQsWWFJt2csttmirVqFe1duNqNAX+JKfH7b607OyDXSpXbj7q1Wp4x8b9aQqaFv7izaVle2jKGGNs1L5fJZacKyxQ/rgmjEpMLW4e+f3u6R3FbUMLkxfk/3P16Is7f/Ud/2v3kbO1cX6+cJvR+GTOQcqVrDT/GrOz4hzOnJiaSSMA0JBNs89kZ6neHc4Y6ze2LY2AJyHRAZceHzx7b6c0V91boquj+4IR+MxZ5vKyc/cOX1iQp+KRQsfJg+t31/xAWSiNDxxH6aUZqTeOrKdpichypGe3/vLa6+b4lcdNrexoWdiE24wmp3POeTE3MaJRqZkZc35PNT8JAJTGo6v+V4/+Q1MlMyvjgRPa0xTKWI5MqqujVyDPT89KSctKCo70Dwh7+vztvbcRPvRL/6NOtSbbf75hqC+hBdC0M3O3xASG0pQxWxeHwb/9RFPgm5rH9JoV6H175cgWM3bctKtWi9YETMDNaBpnC2hmovkJ2CYSAxoppavaGw4ApZQcl7507CGaFjJiZjeJCecLE8rI9nMLjt/aRNMiaO/ed/nYIyZGnFueQFMCb3nd3fYnTRkTicVjDy8z4F5bAV7kSDMSIoJpWmaSYj6sGdt25s7b9i5as+FeuM1oppTzyZ2aVcwSM5VwNrjpmTk0AoDSKciX//LtrqRYzg3ZDi62w2dg7BcPYpOLfdOHxNB0+uB1gztMogUoA9KU9P2jlqicY9B99kiX1u40Bb5FvPVR+e/FxdbBpVajtg6u7pZ29obGZmIdnVxpZnJseEzYm2CfR1HB/vQP/EdGcvymqT3mHXxiVUk7RuMJtxmV5shopKRmFbPEjI04v2eOLI9GAFA6q6ccfX7/HU0LmbttmL4hjmPzoFjNqL6uwaAOk8b2XmBpaktrUDaOTlmTGhVPU8bsG9TstwyfB4SoiM/o9QyM2vYb02HQRPuaDWitkMSoUM+L+++e2i5N5zznzRhLjY/aOr3P/MNeevqca23CIdwjV9m5nM2oro7mh1Pq6HCOjc3JRTMKoEn7Vl45t0fFhTH/Gjy5Y+seWvOA6QvDdb2nSvkFea8/PLv8+FBkQgitQRnwOn796ckbNGVMV19v7JHluvr4/CZEam6l/1fLHsPWXA4dNneb+k6UMWZj79x/8vLVF993HDxZ/cT7yCC/0xtn0VSQhNuMqryc8yNdHc3/2GoaXDU/CQAU1+kd93YsPE/TQmrUqzrj929oCuVClpeTkpFAU25yhdw3+NGmM7P7L6g1a8fAdxG+9CtAc1Ii447/sIamjDHG+i6Z6OjuSlMQBq5b6T8ylJhO+f3cuJXHzKyKcc+5xNTi+3k7pqw/ZyBRd1vy3VPbg308aSo8mu/qNKVAzrnBomyaUc7vKS/OVg8AUOPCfs+1U4/TtBBTC8n6c1MMjLDAw4+Y4jyjL0yhUNx9eW7Y8saLD4zKzuU8fgolplAoDoxaIk1VMfTQxaNhjzn/oykIQ74sNyY0kKZKplZ28w4+adyxPy0UTaOO/WbsuGlkrG7e5YnfpivkcpoKDGcHxjs599+dmlXMElPzPQsKOH8SACi6C/s9l487rGYjv46ueO2pidVdi7E8AJpVrA2j/6VQKC4/PjR8RbOQqFe0BqVze/OJwNveNGVMX2I45tBSMfd6CvArJuyNvEDFOFjGmJGx2cw/blV1qU8LxVGjQauJa0+Jue/WDn/z4uW98zQVGOEeYFLXHXL3qSWWX8D5LF4HL3KAUju9497aqcfVdKKMsV+2f9/yq3o0hXIUk/TBQM+obvWmtas1qlbJtbKlo5GhiTQnIyUjISkt9mXQw5fBnrK8zwwYCYt9M2Zt2z2z77s64mS3ZkS/fv/XvK00ZYwxNnjddLtauKVMuBxd3Xc8zk6MDk2MCk2Iev9//xsdmhgVOmLBrs/uEC2K+h7de/xvztUDq2lB6ebRDU06D6SpkAi3GdXX42xG88tgqVLN91TzBB8AiuLA6qvb5p+j6aemrhqAEfe869Sof+9WI/R09WlBKTcv+6Hv5d2XloZEB9BaIZnZaVM399g/19PB1oXWoJgK8vL3jViUp2rCTL2vWnacMoSmIDC6+gaVnepUdqpDC5rTd+ISr+vHk2JUnz4M9n0U++Ft5eq1aUEwhNtm6etxNspqVjFLTM33RDMKUGIKhWLDjFOf7UTH/9p39LxeNIVyZ25iraYTZYwZ6Bl1bTbk5BK/ZWMOGxup26mWlBY7a8fAArnqB5RQdBcX7wx/8YamjEksTEftX6z+PDVUELp6+n3G/0rTQl7cPksjIRFum6Wny70yms+5illiBQWcTw+NDNS9NQMAl/y8goXf7z228SYtfGrcoj6Tln5NUxAwsUjc22PE4fle1SurW2sJivQ7+vcGmkJxhDz2vb5O9UVl322dY+mADdbwf1r2HGZsZkVTJX/PqzQSEuE2o2paQDXz8EssK5vzwic18/ABgEtGqnRqj03XT6g4clHYDysHTF7Wj6agDZwq1zk07x+nyuoePu6+tDQhNZqmUDS5mdJ9IxbJVe0iazKwc6vheJgA/5+evmGjjpzvpR8Cn+fnab530hThNqNW5hIaKWVIP7N9vgTUfM+yuPAJ4MsW8yFpTJu1T++oeLb4L5FINHvz0DHz8QtVi5lKLDZNu2RmzLkekyOTnn+4l6ZQNCd/+j3hfRRNGTOrZDVi1wKaQoXn1qYnjZTyZDlFuUeUL8JtRq3NOee4ZmRxNo4lpqYZtTTjbIsB4L8CvENHtlz1/rW69TAdXfHSQ6OH/tiFFkDbONrVXDBiF00LOee5Vy7n3JQPXHwvPfDcd56mjDHGRu5eaGJjQVOo8JzrNadRIQmRwr0mTSub0fSsbBqVmpoGV81PAgDE9RPe4zr8lhyXTguFGEr0N5z/ofcID1oA7dS16eD6Tpy/BeOSI14Ga8EdMIKSkZByaNxymjLGGGsz+mv3rzvQFIAx66pOai5kSowOo5FgCLgZtTCmkVJ8soorKEopLpnzd6etpSmNAOA/FArFzsUXFwzbI8vJo7VCLGxMdt2Z1bZ3Q1oAbTax31IaFeIf8oRGoNahccsz4pNpyph19SrfbtKO28aBF5Z2DjRSykpX8f8ogeAcn8Q7e1tLGinFJqXRqNRiEzmbUXtbCxoBwKdys/MWj9p/89QzWviUg4vt1ms/VatlRwug5VrW7SoxNJXmqF4p8A/1ohFw89x33vfifZoyJhKJRh1YYmTGuVIDYGJuTSMlWbZw7+kVbjNaw8GGRkpqVjFLTE2D61CJsy0GAMZYYkzajH7bAp6G0cKn3Fo6b7o0zdIWjxq+QLo6ei3qdrn38jwtMMYYC4r0oxFw8z5xg0aMMcYUCsXvnSfSVHPmOHKeJnRu6Tb/H9UTpkBQ9AyNaKSE0/Ql4eJgSyOl8FjNLzWr+Z417Dl/EgB46xMxovmKz3aiXQY12X13NjrRL1gD55Y0UkrP4nyDBQANUnDf4KNnwNmn8k64zaiZsZEVx8OIkIgEuZxzRn0J5BfIw6ITacoYY8zcxMjOCr8+AVR7eufN+A6/xUel0sKnRs7uvvb0JAMjPVqAL4ilKefui8zsNLlCxbBMANAsWS7nCW8DQ+GOBhJuM8oYq+9SlUaMMcZyZHkRcZr8nB0alch1N30dp8o0AgDGGGN///l0Ws/NWemc732MMV09nUV7Rk5fNxiXFn7xrM04bwNSKBRc20kBQIMykuNppGRmI9x+Rrh7RhljTetWf/gyiKaMMcYC3kdXr8K5S7e4AlRNFf6ocZ1qNAIAxk7vuLd26nGFQt0zClMLyW9nJzfvrO6GHvhi6OqoW/nW18XtIVDh5MtyM1ISMlLi05PjM5LjM1ITMpLj05PjM1MSWvUa3rz7UPoHSkehUKQkcPYzVpUcaSQYgm5Gm9d3opGS96vQXm0a0LSkvPxDaaTUpE51GgFUeMc33fr95z9p+il7Z5vNV350rluFFqAcFcjzY5PCIxPfRyW8j0p4H5kQEpnwPirx/Zllr23MNfxPk5nDebRULNbR1zOkKcCXbt34DqGvVI+SMDa30ngzGhf+Ll/Gebd5pWquNBIMYTej9ZxppOQdwNk+loCa79bG3YVGABXbkfU3Ns0+Q9NPubV03nhxmpUd9lvzaf7u7249P1Mgz6cFxnyCPLs2G0LT0olJDKORkp2FPY0AKgBbhxpczeiHwOc0KrUPrzmH6+kbSio7C/chlaD3jNaqZsc1VsnzZbAsT8U7bAlIc2RP/FTfkWVraVrXWcOLBwBa7c9tdz7biXbs33j33dnoRHlnaCBR2Ykyxp4EqB4eVBrvIn1ppFS9knCXZADKjprFyJiwN9mZnDMlSybgCefr2ql+c7FYh6aCIeiVUcZYDw+3vecf0pSxDGnOvedvu7WqTwvFd8srMDtX9YUx3T3q49QFwL/+/vPp+uknafqpIVM6ztk6TCzGC4d/NarUo5HSQ/8rcoVcLNLYeoRCoXj+9h5NlWo5utMIuM249QeNNOePwXNenL1NU8YYY+sirlo6cJ5CgxJwqs95Ta5CLve5d8Gjz0haKKl8Wa6/51WaKrm17kEjIdHYO1EZ6dWWc2Po6ZuaWeI+c5vz+/RtjzdQgP/z/P67X0fuVz9VbfLy/r9s/x6dqEA0cPGgkVJSWuzTQNUdScn4hTyOS4mkqVLz2p1oBFAB1HBrqWZJy/vGCRqVwvM7ZzPTkmiq5N6uL42EROjN6Fct6xkbqT6DeeKGd1qmupkyRZGYmnn6puo9FhamEjSjAB/FRab88s3OPJnqZ76MMZFI9Mv278ct7E0LwJ961ZtJDExoqnT6niaX347f2kQjJUN9SZPaHWgKUAGYWNg41W9BU6XXXrdSE6JpWiIKheLagTU0VXKq16yqiwaeJJcdoTejJhKDIV2b0pQxxlhWdu72U3dpWkxbTtzOkal+Rj+idysjA3WTSgAqiDxZ/pzBfyTHc86JFIlEC/eMHDKlIy0Ar/R09ds25Px4cN/nQmhMIE1LJCDs6Z0Xf9FUqVPjAWp6YoAvW5NOA2ikJC/Iv7hrCU1L5NHFA1HB/jRVajdgPI0ERujNKGNs/ID2NFJatf9qVHwqTYssLDpp/RHO3b4TBnL+dwEqlL3LL7/y4pw4wRibumpA/7FtaQoC0KvVcBopyRXyzWfm0LT4ZPm5Kw9PUHPB0qAOZXidOoDAefQZKdbhPJ/z6ML+mNDSfiZMjY86vWkWTZUsbKu27vM/mgqMFjSjrd1dGtVWPak1Kzt3xKJ9BXLON0E18vILhi/cy3V0qX0TVzcXzCIBYG9ehB9Yc42mhfQb03bULz1pCsLQpkEvR7uaNFV66Hf5utdxmhbTmmNT3kb40FSpae2OjWu1oylAhWFuU6Vpl0E0VZLLCw4sHpUny6GFIsuT5eyYNVCankILSj1Hz9PVV73dUTi0oBlljC2d2I9GSnefvflp/WeGb6v0w5pjj3yDaaq0ZtpAGgFUPAqFYuXEIwX5nJ/3Gnq4zN/JufYGvBOLxKN7zqNpISuOTFDTSn7WlrNzL3jup6mSWCT+cRDnPjaACqLPuEUiMWe7FRrgfWjpWJoWTb4sd8esgaEB3rSgZF+zQcfBk2gqPJx/O4LydQf3lm6cA/C3/Xln9qYz6q8lLEwuV0z/7eSecyomRn00pGszj4aYdQ/Arh/3fv0sjKZKRsYGyw6P0dUT7uw6YIz1bTOqlkNDmipl52ZN2fCVX8gTWvgcWX7uskNjD11fRwuFDOk0xc25JU0BKpiqLvXb9B1F00K8rh8/tGxsfp6MFtTKTEvaOLX7q0ecT67EYp0R83eq2SQgHFrwI360adbQtmPWcj2RX3/kRmh0wu6FI63MjGntUwkpGWOXHbr0gHM4s6G+3mosiwIwVpAv37HwHE0L+eqbZvGRKfGRnI+HNMW5XlWM0C8xsUj86//2jVrtwTUAPzUzcdy69lP6Lx/ZY04RJ48GhHqvODLhXQTnGyljzMXebdpALIsCMMbYkJ/W+3teTUuKpQUlzwv7Y8LejF953LpKkS4hf/X4+uEV41PiOOepMcb6jF/k4t6apoKkNc1oqwY15o7qsWo/50DXs7dfeL4MXjS+z9j+bQ31VZyCz87N2/3Xg5X7riSkcB4KZoxtmfOdi4MtTQEqnttnn0eHcU6tY4xdPPDo4oFHNC0Dq05M6D6Uc3Y0fFY9p2aT+y3bdm4+LSgVyPO3/jXv8pPDo3rM7dFymK6OirdQxphCofANeXTi1ubbL86qfxhlKrH4fco5I4PPrA4AVBASM8vRyw5tntZTwbGmxhgL8X28cGDtDoMm9Rg528JO9akVhUIR6H3rxqHfXnvdpLVPubXu0XvcQpoKldY0o4yxJRO/vun1+mlAGC0oxSWnT117fP62c73bNWjpVsOpirWJxCBTmhsanfiP//urnv4Z0s/sER7R22P8AOy1B2CMsZNbNDkUHfg1ute8kOiAa17HaKGQ0JjAxQdGrT0+tUntDo1rtbMxr2Jpaqsr1s3KyYhJ+vA24uWzN3fVTLb/l8TAZMuPV9UcnAKogOq36jZo2pozm9WNsMiX5d4+sfnOyS3V6jSp79HdpqqTmVUlfUNJjjQjMTos4u3LQO/bRRlNWq1Ok0lrTwv5/k9Cm5pRPV2dS5umeYxaHRqVSGuFpGdln7jufeI6535eLs3rO/0x73uaAlRIEcHxvo9DaArabPGo/dm5mfd8LtDCp6S5mZ5+Vzz9rtBC0RgbmW2cerEh9+VPABVW95Gzs9KSrx38zPYVhULxIfD5h0DO6yHVs3dx+3HLFQOJNg33LdL2IOGoZGV2Y9vP1atY00KptXZ3ufXHDK7bngAqmvsX1W0HBG2kp6u/dtJpNZNHS6+SleP+uZ5NXXHfEoBqA6et/nriEppqTs1Gbefse2huXZkWhE3LmlHGWK1qdk8OzmtcuxotlELn5nX+3v6zmbERLQBUVH6POQefgfbS1dFbPvbIz0PW64g1/1isg/vXxxY+r2nfgBYAoJC+ExZPWH3SUKL5Q5mdh06b8cdNiakFLQie9jWjjLEqNuaPD/7y07CuIpGI1opJRyyeN7rXje0/Y00UoLDQQM5Tn6DthnebeWTh09rVGtNCSVmbV14y+sCGqRcsTXH6E+Dzmnf7dsmffnVbdKGFkrKxd56+9dp3s7fo6RvSmjbQymaUMWaor7dx5rePD/zSoakrrRVZh6auT48uWDV1gK6Otv49AJSRhOhUGsEXpLZjo6MLny0dc8jBtlQzla3MKk3ut+z8yqC+rUfRGgBws67qNOOPW9M2XXKs3YjWisPMqtK3MzcuP/vGrXUPWtMemn9SU55aNahxb/fsBy/e7T3vefb2c2lOkQbGSgz1B3RqPHlIxzbuOOwJoJqM46Zc+GKIReI+HiN7tRr+JODGxUcHHr+6Ls1RN/auMH09w1b1vurW/NsuTQfr6+KxEkAJNWzXp2G7PsE+ng/P7fV7eDkzTd00vcL09A1rN+/U9usxjTr209FVPYtNi4gUz/fQTDvlyPIe+QTff/7udWh0UHh8bFJapjQ3R5anp6tjYmRY1da8hoNtw5oObRvXbN/EVeUgUm31oglNQKu8GPeCRqBd9o6jiRbKy5f5Bj96Feb9LtwnKjE0PiUyMyc9V5bNGDM0kJgYmtlZOtjbOLvYuzWo0crNueWXNEMUr0Gt90X8HpTLC8ICnoa+8vrw5kVC5PuUuAhpRqosR6pQKAyMjA0kJhY2Veyq1arsVKdmw9Y1G7fV0ifyKmn3ymhhhvp6XVrU7dKiLi0AAMDn6OnqN6vTqVmdTrQAAOVCLNap0aBVjQataKECwF5JAAAAAOANmlEAAAAA4A2aUQAAAADgDZpRAAAAAOANmlEAAAAA4A2aUQAAAADgDZpRAAAAAOANmlEAAAAA4A2aUQAAAADgDZpRAAAAAOANmlEAAAAA4A2aUQAAAADgDZpRAAAAAOANmlEAAAAA4A2aUQAAAADgDZpRAAAAAOANmlEAAAAA4A2aUQAAAADgDZpRAAAAAOANmlEAAAAA4A2aUQAAAADgDZpRAAAAAOANmlEAAAAA4A2aUQAAAADgDZpRAAAAAOANmlEAAAAA4A2aUQAAAADgDZpRAAAAAOANmlEAAAAA4A2aUQAAAADgDZpRAAAAAOANmlEAAAAA4A2aUQAAAADgDZpRAAAAAOANmlEAAAAA4A2aUQAAAADgzf8D4tYJrMUa3fEAAAAASUVORK5CYII=",
         "type": "image",
         "xaxis": "x",
         "yaxis": "y"
        }
       ],
       "layout": {
        "coloraxis": {
         "showscale": false
        },
        "height": 150,
        "margin": {
         "b": 0,
         "l": 0,
         "r": 0,
         "t": 0
        },
        "template": {
         "data": {
          "bar": [
           {
            "error_x": {
             "color": "#2a3f5f"
            },
            "error_y": {
             "color": "#2a3f5f"
            },
            "marker": {
             "line": {
              "color": "#E5ECF6",
              "width": 0.5
             },
             "pattern": {
              "fillmode": "overlay",
              "size": 10,
              "solidity": 0.2
             }
            },
            "type": "bar"
           }
          ],
          "barpolar": [
           {
            "marker": {
             "line": {
              "color": "#E5ECF6",
              "width": 0.5
             },
             "pattern": {
              "fillmode": "overlay",
              "size": 10,
              "solidity": 0.2
             }
            },
            "type": "barpolar"
           }
          ],
          "carpet": [
           {
            "aaxis": {
             "endlinecolor": "#2a3f5f",
             "gridcolor": "white",
             "linecolor": "white",
             "minorgridcolor": "white",
             "startlinecolor": "#2a3f5f"
            },
            "baxis": {
             "endlinecolor": "#2a3f5f",
             "gridcolor": "white",
             "linecolor": "white",
             "minorgridcolor": "white",
             "startlinecolor": "#2a3f5f"
            },
            "type": "carpet"
           }
          ],
          "choropleth": [
           {
            "colorbar": {
             "outlinewidth": 0,
             "ticks": ""
            },
            "type": "choropleth"
           }
          ],
          "contour": [
           {
            "colorbar": {
             "outlinewidth": 0,
             "ticks": ""
            },
            "colorscale": [
             [
              0,
              "#0d0887"
             ],
             [
              0.1111111111111111,
              "#46039f"
             ],
             [
              0.2222222222222222,
              "#7201a8"
             ],
             [
              0.3333333333333333,
              "#9c179e"
             ],
             [
              0.4444444444444444,
              "#bd3786"
             ],
             [
              0.5555555555555556,
              "#d8576b"
             ],
             [
              0.6666666666666666,
              "#ed7953"
             ],
             [
              0.7777777777777778,
              "#fb9f3a"
             ],
             [
              0.8888888888888888,
              "#fdca26"
             ],
             [
              1,
              "#f0f921"
             ]
            ],
            "type": "contour"
           }
          ],
          "contourcarpet": [
           {
            "colorbar": {
             "outlinewidth": 0,
             "ticks": ""
            },
            "type": "contourcarpet"
           }
          ],
          "heatmap": [
           {
            "colorbar": {
             "outlinewidth": 0,
             "ticks": ""
            },
            "colorscale": [
             [
              0,
              "#0d0887"
             ],
             [
              0.1111111111111111,
              "#46039f"
             ],
             [
              0.2222222222222222,
              "#7201a8"
             ],
             [
              0.3333333333333333,
              "#9c179e"
             ],
             [
              0.4444444444444444,
              "#bd3786"
             ],
             [
              0.5555555555555556,
              "#d8576b"
             ],
             [
              0.6666666666666666,
              "#ed7953"
             ],
             [
              0.7777777777777778,
              "#fb9f3a"
             ],
             [
              0.8888888888888888,
              "#fdca26"
             ],
             [
              1,
              "#f0f921"
             ]
            ],
            "type": "heatmap"
           }
          ],
          "heatmapgl": [
           {
            "colorbar": {
             "outlinewidth": 0,
             "ticks": ""
            },
            "colorscale": [
             [
              0,
              "#0d0887"
             ],
             [
              0.1111111111111111,
              "#46039f"
             ],
             [
              0.2222222222222222,
              "#7201a8"
             ],
             [
              0.3333333333333333,
              "#9c179e"
             ],
             [
              0.4444444444444444,
              "#bd3786"
             ],
             [
              0.5555555555555556,
              "#d8576b"
             ],
             [
              0.6666666666666666,
              "#ed7953"
             ],
             [
              0.7777777777777778,
              "#fb9f3a"
             ],
             [
              0.8888888888888888,
              "#fdca26"
             ],
             [
              1,
              "#f0f921"
             ]
            ],
            "type": "heatmapgl"
           }
          ],
          "histogram": [
           {
            "marker": {
             "pattern": {
              "fillmode": "overlay",
              "size": 10,
              "solidity": 0.2
             }
            },
            "type": "histogram"
           }
          ],
          "histogram2d": [
           {
            "colorbar": {
             "outlinewidth": 0,
             "ticks": ""
            },
            "colorscale": [
             [
              0,
              "#0d0887"
             ],
             [
              0.1111111111111111,
              "#46039f"
             ],
             [
              0.2222222222222222,
              "#7201a8"
             ],
             [
              0.3333333333333333,
              "#9c179e"
             ],
             [
              0.4444444444444444,
              "#bd3786"
             ],
             [
              0.5555555555555556,
              "#d8576b"
             ],
             [
              0.6666666666666666,
              "#ed7953"
             ],
             [
              0.7777777777777778,
              "#fb9f3a"
             ],
             [
              0.8888888888888888,
              "#fdca26"
             ],
             [
              1,
              "#f0f921"
             ]
            ],
            "type": "histogram2d"
           }
          ],
          "histogram2dcontour": [
           {
            "colorbar": {
             "outlinewidth": 0,
             "ticks": ""
            },
            "colorscale": [
             [
              0,
              "#0d0887"
             ],
             [
              0.1111111111111111,
              "#46039f"
             ],
             [
              0.2222222222222222,
              "#7201a8"
             ],
             [
              0.3333333333333333,
              "#9c179e"
             ],
             [
              0.4444444444444444,
              "#bd3786"
             ],
             [
              0.5555555555555556,
              "#d8576b"
             ],
             [
              0.6666666666666666,
              "#ed7953"
             ],
             [
              0.7777777777777778,
              "#fb9f3a"
             ],
             [
              0.8888888888888888,
              "#fdca26"
             ],
             [
              1,
              "#f0f921"
             ]
            ],
            "type": "histogram2dcontour"
           }
          ],
          "mesh3d": [
           {
            "colorbar": {
             "outlinewidth": 0,
             "ticks": ""
            },
            "type": "mesh3d"
           }
          ],
          "parcoords": [
           {
            "line": {
             "colorbar": {
              "outlinewidth": 0,
              "ticks": ""
             }
            },
            "type": "parcoords"
           }
          ],
          "pie": [
           {
            "automargin": true,
            "type": "pie"
           }
          ],
          "scatter": [
           {
            "fillpattern": {
             "fillmode": "overlay",
             "size": 10,
             "solidity": 0.2
            },
            "type": "scatter"
           }
          ],
          "scatter3d": [
           {
            "line": {
             "colorbar": {
              "outlinewidth": 0,
              "ticks": ""
             }
            },
            "marker": {
             "colorbar": {
              "outlinewidth": 0,
              "ticks": ""
             }
            },
            "type": "scatter3d"
           }
          ],
          "scattercarpet": [
           {
            "marker": {
             "colorbar": {
              "outlinewidth": 0,
              "ticks": ""
             }
            },
            "type": "scattercarpet"
           }
          ],
          "scattergeo": [
           {
            "marker": {
             "colorbar": {
              "outlinewidth": 0,
              "ticks": ""
             }
            },
            "type": "scattergeo"
           }
          ],
          "scattergl": [
           {
            "marker": {
             "colorbar": {
              "outlinewidth": 0,
              "ticks": ""
             }
            },
            "type": "scattergl"
           }
          ],
          "scattermapbox": [
           {
            "marker": {
             "colorbar": {
              "outlinewidth": 0,
              "ticks": ""
             }
            },
            "type": "scattermapbox"
           }
          ],
          "scatterpolar": [
           {
            "marker": {
             "colorbar": {
              "outlinewidth": 0,
              "ticks": ""
             }
            },
            "type": "scatterpolar"
           }
          ],
          "scatterpolargl": [
           {
            "marker": {
             "colorbar": {
              "outlinewidth": 0,
              "ticks": ""
             }
            },
            "type": "scatterpolargl"
           }
          ],
          "scatterternary": [
           {
            "marker": {
             "colorbar": {
              "outlinewidth": 0,
              "ticks": ""
             }
            },
            "type": "scatterternary"
           }
          ],
          "surface": [
           {
            "colorbar": {
             "outlinewidth": 0,
             "ticks": ""
            },
            "colorscale": [
             [
              0,
              "#0d0887"
             ],
             [
              0.1111111111111111,
              "#46039f"
             ],
             [
              0.2222222222222222,
              "#7201a8"
             ],
             [
              0.3333333333333333,
              "#9c179e"
             ],
             [
              0.4444444444444444,
              "#bd3786"
             ],
             [
              0.5555555555555556,
              "#d8576b"
             ],
             [
              0.6666666666666666,
              "#ed7953"
             ],
             [
              0.7777777777777778,
              "#fb9f3a"
             ],
             [
              0.8888888888888888,
              "#fdca26"
             ],
             [
              1,
              "#f0f921"
             ]
            ],
            "type": "surface"
           }
          ],
          "table": [
           {
            "cells": {
             "fill": {
              "color": "#EBF0F8"
             },
             "line": {
              "color": "white"
             }
            },
            "header": {
             "fill": {
              "color": "#C8D4E3"
             },
             "line": {
              "color": "white"
             }
            },
            "type": "table"
           }
          ]
         },
         "layout": {
          "annotationdefaults": {
           "arrowcolor": "#2a3f5f",
           "arrowhead": 0,
           "arrowwidth": 1
          },
          "autotypenumbers": "strict",
          "coloraxis": {
           "colorbar": {
            "outlinewidth": 0,
            "ticks": ""
           }
          },
          "colorscale": {
           "diverging": [
            [
             0,
             "#8e0152"
            ],
            [
             0.1,
             "#c51b7d"
            ],
            [
             0.2,
             "#de77ae"
            ],
            [
             0.3,
             "#f1b6da"
            ],
            [
             0.4,
             "#fde0ef"
            ],
            [
             0.5,
             "#f7f7f7"
            ],
            [
             0.6,
             "#e6f5d0"
            ],
            [
             0.7,
             "#b8e186"
            ],
            [
             0.8,
             "#7fbc41"
            ],
            [
             0.9,
             "#4d9221"
            ],
            [
             1,
             "#276419"
            ]
           ],
           "sequential": [
            [
             0,
             "#0d0887"
            ],
            [
             0.1111111111111111,
             "#46039f"
            ],
            [
             0.2222222222222222,
             "#7201a8"
            ],
            [
             0.3333333333333333,
             "#9c179e"
            ],
            [
             0.4444444444444444,
             "#bd3786"
            ],
            [
             0.5555555555555556,
             "#d8576b"
            ],
            [
             0.6666666666666666,
             "#ed7953"
            ],
            [
             0.7777777777777778,
             "#fb9f3a"
            ],
            [
             0.8888888888888888,
             "#fdca26"
            ],
            [
             1,
             "#f0f921"
            ]
           ],
           "sequentialminus": [
            [
             0,
             "#0d0887"
            ],
            [
             0.1111111111111111,
             "#46039f"
            ],
            [
             0.2222222222222222,
             "#7201a8"
            ],
            [
             0.3333333333333333,
             "#9c179e"
            ],
            [
             0.4444444444444444,
             "#bd3786"
            ],
            [
             0.5555555555555556,
             "#d8576b"
            ],
            [
             0.6666666666666666,
             "#ed7953"
            ],
            [
             0.7777777777777778,
             "#fb9f3a"
            ],
            [
             0.8888888888888888,
             "#fdca26"
            ],
            [
             1,
             "#f0f921"
            ]
           ]
          },
          "colorway": [
           "#636efa",
           "#EF553B",
           "#00cc96",
           "#ab63fa",
           "#FFA15A",
           "#19d3f3",
           "#FF6692",
           "#B6E880",
           "#FF97FF",
           "#FECB52"
          ],
          "font": {
           "color": "#2a3f5f"
          },
          "geo": {
           "bgcolor": "white",
           "lakecolor": "white",
           "landcolor": "#E5ECF6",
           "showlakes": true,
           "showland": true,
           "subunitcolor": "white"
          },
          "hoverlabel": {
           "align": "left"
          },
          "hovermode": "closest",
          "mapbox": {
           "style": "light"
          },
          "paper_bgcolor": "white",
          "plot_bgcolor": "#E5ECF6",
          "polar": {
           "angularaxis": {
            "gridcolor": "white",
            "linecolor": "white",
            "ticks": ""
           },
           "bgcolor": "#E5ECF6",
           "radialaxis": {
            "gridcolor": "white",
            "linecolor": "white",
            "ticks": ""
           }
          },
          "scene": {
           "xaxis": {
            "backgroundcolor": "#E5ECF6",
            "gridcolor": "white",
            "gridwidth": 2,
            "linecolor": "white",
            "showbackground": true,
            "ticks": "",
            "zerolinecolor": "white"
           },
           "yaxis": {
            "backgroundcolor": "#E5ECF6",
            "gridcolor": "white",
            "gridwidth": 2,
            "linecolor": "white",
            "showbackground": true,
            "ticks": "",
            "zerolinecolor": "white"
           },
           "zaxis": {
            "backgroundcolor": "#E5ECF6",
            "gridcolor": "white",
            "gridwidth": 2,
            "linecolor": "white",
            "showbackground": true,
            "ticks": "",
            "zerolinecolor": "white"
           }
          },
          "shapedefaults": {
           "line": {
            "color": "#2a3f5f"
           }
          },
          "ternary": {
           "aaxis": {
            "gridcolor": "white",
            "linecolor": "white",
            "ticks": ""
           },
           "baxis": {
            "gridcolor": "white",
            "linecolor": "white",
            "ticks": ""
           },
           "bgcolor": "#E5ECF6",
           "caxis": {
            "gridcolor": "white",
            "linecolor": "white",
            "ticks": ""
           }
          },
          "title": {
           "x": 0.05
          },
          "xaxis": {
           "automargin": true,
           "gridcolor": "white",
           "linecolor": "white",
           "ticks": "",
           "title": {
            "standoff": 15
           },
           "zerolinecolor": "white",
           "zerolinewidth": 2
          },
          "yaxis": {
           "automargin": true,
           "gridcolor": "white",
           "linecolor": "white",
           "ticks": "",
           "title": {
            "standoff": 15
           },
           "zerolinecolor": "white",
           "zerolinewidth": 2
          }
         }
        },
        "width": 900,
        "xaxis": {
         "anchor": "y",
         "domain": [
          0,
          1
         ],
         "showticklabels": false
        },
        "yaxis": {
         "anchor": "x",
         "domain": [
          0,
          1
         ],
         "showticklabels": false
        }
       }
      }
     },
     "metadata": {},
     "output_type": "display_data"
    }
   ],
   "source": [
    "show_target_image(1)"
   ]
  },
  {
   "cell_type": "code",
   "execution_count": null,
   "metadata": {},
   "outputs": [],
   "source": [
    "# Your code here - define arr1\n",
    "arr1 = ...\n",
    "show_array_as_img(arr1)"
   ]
  },
  {
   "cell_type": "markdown",
   "metadata": {},
   "source": [
    "<details>\n",
    "<summary>Solution </summary>\n",
    "\n",
    "```python\n",
    "arr1 = einops.rearrange(arr, \"number channel height width -> channel height (number width)\")\n",
    "```\n",
    "</details>\n"
   ]
  },
  {
   "cell_type": "markdown",
   "metadata": {},
   "source": [
    "#### Exercise 2\n"
   ]
  },
  {
   "cell_type": "code",
   "execution_count": null,
   "metadata": {},
   "outputs": [],
   "source": [
    "show_target_image(2)"
   ]
  },
  {
   "cell_type": "code",
   "execution_count": null,
   "metadata": {},
   "outputs": [],
   "source": [
    "# Your code here - define arr2\n",
    "show_array_as_img(arr2)"
   ]
  },
  {
   "cell_type": "markdown",
   "metadata": {},
   "source": [
    "<details>\n",
    "<summary>Solution </summary>\n",
    "\n",
    "```python\n",
    "arr2 = einops.repeat(arr[0], \"channel height width -> channel (2 height) width\")\n",
    "```\n",
    "</details>\n"
   ]
  },
  {
   "cell_type": "markdown",
   "metadata": {},
   "source": [
    "#### Exercise 3"
   ]
  },
  {
   "cell_type": "code",
   "execution_count": null,
   "metadata": {},
   "outputs": [],
   "source": [
    "show_target_image(3)"
   ]
  },
  {
   "cell_type": "code",
   "execution_count": null,
   "metadata": {},
   "outputs": [],
   "source": [
    "# Your code here - define arr3\n",
    "show_array_as_img(arr3)"
   ]
  },
  {
   "cell_type": "markdown",
   "metadata": {},
   "source": [
    "<details>\n",
    "<summary>Solution </summary>\n",
    "\n",
    "```python\n",
    "arr3 = einops.repeat(arr[0:2], \"b c h w -> c (b h) (2 w)\")\n",
    "```\n",
    "</details>\n"
   ]
  },
  {
   "cell_type": "markdown",
   "metadata": {},
   "source": [
    "#### Exercise 4\n"
   ]
  },
  {
   "cell_type": "code",
   "execution_count": null,
   "metadata": {},
   "outputs": [],
   "source": [
    "show_target_image(4)"
   ]
  },
  {
   "cell_type": "code",
   "execution_count": null,
   "metadata": {},
   "outputs": [],
   "source": [
    "# Your code here - define arr4\n",
    "show_array_as_img(arr4)"
   ]
  },
  {
   "cell_type": "markdown",
   "metadata": {},
   "source": [
    "<details>\n",
    "<summary>Solution </summary>\n",
    "\n",
    "```python\n",
    "arr4 = einops.repeat(arr[0], \"c h w -> c (h 2) w\")\n",
    "```\n",
    "</details>\n"
   ]
  },
  {
   "cell_type": "markdown",
   "metadata": {},
   "source": [
    "#### Exercise 5\n"
   ]
  },
  {
   "cell_type": "code",
   "execution_count": null,
   "metadata": {},
   "outputs": [],
   "source": [
    "show_target_image(5)"
   ]
  },
  {
   "cell_type": "code",
   "execution_count": null,
   "metadata": {},
   "outputs": [],
   "source": [
    "# Your code here - define arr5\n",
    "show_array_as_img(arr5)"
   ]
  },
  {
   "cell_type": "markdown",
   "metadata": {},
   "source": [
    "<details>\n",
    "<summary>Solution </summary>\n",
    "\n",
    "```python\n",
    "arr5 = einops.rearrange(arr[0], \"c h w -> h (c w)\")\n",
    "```\n",
    "</details>\n"
   ]
  },
  {
   "cell_type": "markdown",
   "metadata": {},
   "source": [
    "#### Exercise 6\n"
   ]
  },
  {
   "cell_type": "code",
   "execution_count": null,
   "metadata": {},
   "outputs": [],
   "source": [
    "show_target_image(6)"
   ]
  },
  {
   "cell_type": "code",
   "execution_count": null,
   "metadata": {},
   "outputs": [],
   "source": [
    "# Your code here - define arr6\n",
    "show_array_as_img(arr6)"
   ]
  },
  {
   "cell_type": "markdown",
   "metadata": {},
   "source": [
    "<details>\n",
    "<summary>Solution </summary>\n",
    "\n",
    "```python\n",
    "arr6 = einops.rearrange(arr, \"(b1 b2) c h w -> c (b1 h) (b2 w)\", b1=2)\n",
    "```\n",
    "</details>\n"
   ]
  },
  {
   "cell_type": "markdown",
   "metadata": {},
   "source": [
    "#### Exercise 7\n"
   ]
  },
  {
   "cell_type": "code",
   "execution_count": null,
   "metadata": {},
   "outputs": [],
   "source": [
    "show_target_image(7)"
   ]
  },
  {
   "cell_type": "code",
   "execution_count": null,
   "metadata": {},
   "outputs": [],
   "source": [
    "# Your code here - define arr7\n",
    "show_array_as_img(arr7)"
   ]
  },
  {
   "cell_type": "markdown",
   "metadata": {},
   "source": [
    "<details>\n",
    "<summary>Solution </summary>\n",
    "\n",
    "```python\n",
    "arr7 = einops.reduce(arr, \"b c h w -> h (b w)\", \"max\")\n",
    "```\n",
    "</details>\n"
   ]
  },
  {
   "cell_type": "markdown",
   "metadata": {},
   "source": [
    "#### Exercise 8\n"
   ]
  },
  {
   "cell_type": "code",
   "execution_count": null,
   "metadata": {},
   "outputs": [],
   "source": [
    "show_target_image(8)"
   ]
  },
  {
   "cell_type": "code",
   "execution_count": null,
   "metadata": {},
   "outputs": [],
   "source": [
    "# Your code here - define arr8\n",
    "show_array_as_img(arr8)"
   ]
  },
  {
   "cell_type": "markdown",
   "metadata": {},
   "source": [
    "<details>\n",
    "<summary>Solution </summary>\n",
    "\n",
    "```python\n",
    "arr8 = einops.reduce(arr, \"b c h w -> h w\", \"min\")\n",
    "```\n",
    "</details>\n"
   ]
  },
  {
   "cell_type": "markdown",
   "metadata": {},
   "source": [
    "#### Exercise 9\n"
   ]
  },
  {
   "cell_type": "code",
   "execution_count": null,
   "metadata": {},
   "outputs": [],
   "source": [
    "show_target_image(9)"
   ]
  },
  {
   "cell_type": "code",
   "execution_count": null,
   "metadata": {},
   "outputs": [],
   "source": [
    "# Your code here - define arr9\n",
    "show_array_as_img(arr9)"
   ]
  },
  {
   "cell_type": "markdown",
   "metadata": {},
   "source": [
    "<details>\n",
    "<summary>Solution </summary>\n",
    "\n",
    "```python\n",
    "arr9 = einops.rearrange(arr[1], \"c h w -> c w h\")\n",
    "```\n",
    "</details>\n"
   ]
  },
  {
   "cell_type": "markdown",
   "metadata": {},
   "source": [
    "#### Exercise 10\n"
   ]
  },
  {
   "cell_type": "code",
   "execution_count": null,
   "metadata": {},
   "outputs": [],
   "source": [
    "show_target_image(10)"
   ]
  },
  {
   "cell_type": "code",
   "execution_count": null,
   "metadata": {},
   "outputs": [],
   "source": [
    "# Your code here - define arr10\n",
    "show_array_as_img(arr10)"
   ]
  },
  {
   "cell_type": "markdown",
   "metadata": {},
   "source": [
    "<details>\n",
    "<summary>Solution </summary>\n",
    "\n",
    "```python\n",
    "arr10 = einops.reduce(arr, \"(b1 b2) c (h h2) (w w2) -> c (b1 h) (b2 w)\", \"max\", h2=2, w2=2, b1=2)\n",
    "```\n",
    "</details>\n"
   ]
  },
  {
   "cell_type": "markdown",
   "metadata": {},
   "source": [
    "### Einops exercises - operations\n",
    "\n",
    "```c\n",
    "Difficulty: 🔴🔴⚪⚪⚪\n",
    "Importance: 🔵🔵🔵⚪⚪\n",
    "\n",
    "You should spend up to ~45 minutes on these exercises collectively.\n",
    "\n",
    "If you think you get the general idea, then you can skip to the next section.\n",
    "```\n",
    "\n",
    "Next, we have a series of functions which you should implement using `einops`. In the dropdown below these exercises, you can find solutions to all of them.\n",
    "\n",
    "First, let's define some functions to help us test our solutions:"
   ]
  },
  {
   "cell_type": "code",
   "execution_count": null,
   "metadata": {},
   "outputs": [],
   "source": [
    "def assert_all_equal(actual: Tensor, expected: Tensor) -> None:\n",
    "    assert actual.shape == expected.shape, f\"Shape mismatch, got: {actual.shape}\"\n",
    "    assert (actual == expected).all(), f\"Value mismatch, got: {actual}\"\n",
    "    print(\"Passed!\")\n",
    "\n",
    "\n",
    "def assert_all_close(actual: Tensor, expected: Tensor, rtol=1e-05, atol=0.0001) -> None:\n",
    "    assert actual.shape == expected.shape, f\"Shape mismatch, got: {actual.shape}\"\n",
    "    assert torch.allclose(actual, expected, rtol=rtol, atol=atol)\n",
    "    print(\"Passed!\")"
   ]
  },
  {
   "cell_type": "markdown",
   "metadata": {},
   "source": [
    "#### Exercise A.1 - rearrange (1)"
   ]
  },
  {
   "cell_type": "code",
   "execution_count": null,
   "metadata": {},
   "outputs": [],
   "source": [
    "def rearrange_1() -> Tensor:\n",
    "    \"\"\"Return the following tensor using only torch.arange and einops.rearrange:\n",
    "\n",
    "    [[3, 4],\n",
    "     [5, 6],\n",
    "     [7, 8]]\n",
    "    \"\"\"\n",
    "    pass\n",
    "\n",
    "\n",
    "expected = torch.tensor([[3, 4], [5, 6], [7, 8]])\n",
    "assert_all_equal(rearrange_1(), expected)"
   ]
  },
  {
   "cell_type": "markdown",
   "metadata": {},
   "source": [
    "<details>\n",
    "<summary>Solution</summary>\n",
    "\n",
    "```python\n",
    "def rearrange_1() -> Tensor:\n",
    "    \"\"\"Return the following tensor using only torch.arange and einops.rearrange:\n",
    "\n",
    "    [[3, 4],\n",
    "     [5, 6],\n",
    "     [7, 8]]\n",
    "    \"\"\"\n",
    "    return einops.rearrange(torch.arange(3, 9), \"(h w) -> h w\", h=3, w=2)\n",
    "```\n",
    "</details>\n"
   ]
  },
  {
   "cell_type": "markdown",
   "metadata": {},
   "source": [
    "#### Exercise A.2 - rearrange (2)"
   ]
  },
  {
   "cell_type": "code",
   "execution_count": null,
   "metadata": {},
   "outputs": [],
   "source": [
    "def rearrange_2() -> Tensor:\n",
    "    \"\"\"Return the following tensor using only torch.arange and einops.rearrange:\n",
    "\n",
    "    [[1, 2, 3],\n",
    "     [4, 5, 6]]\n",
    "    \"\"\"\n",
    "    pass\n",
    "\n",
    "\n",
    "assert_all_equal(rearrange_2(), torch.tensor([[1, 2, 3], [4, 5, 6]]))"
   ]
  },
  {
   "cell_type": "markdown",
   "metadata": {},
   "source": [
    "<details>\n",
    "<summary>Solution</summary>\n",
    "\n",
    "```python\n",
    "def rearrange_2() -> Tensor:\n",
    "    \"\"\"Return the following tensor using only torch.arange and einops.rearrange:\n",
    "\n",
    "    [[1, 2, 3],\n",
    "     [4, 5, 6]]\n",
    "    \"\"\"\n",
    "    return einops.rearrange(torch.arange(1, 7), \"(h w) -> h w\", h=2, w=3)\n",
    "```\n",
    "</details>"
   ]
  },
  {
   "cell_type": "markdown",
   "metadata": {},
   "source": [
    "#### Exercise A.3 - rearrange (3)"
   ]
  },
  {
   "cell_type": "code",
   "execution_count": null,
   "metadata": {},
   "outputs": [],
   "source": [
    "def rearrange_3() -> Tensor:\n",
    "    \"\"\"Return the following tensor using only torch.arange and einops.rearrange:\n",
    "\n",
    "    [[[1], [2], [3], [4], [5], [6]]]\n",
    "    \"\"\"\n",
    "    pass\n",
    "\n",
    "\n",
    "assert_all_equal(rearrange_3(), torch.tensor([[[1], [2], [3], [4], [5], [6]]]))"
   ]
  },
  {
   "cell_type": "markdown",
   "metadata": {},
   "source": [
    "<details>\n",
    "<summary>Solution</summary>\n",
    "\n",
    "```python\n",
    "def rearrange_3() -> Tensor:\n",
    "    \"\"\"Return the following tensor using only torch.arange and einops.rearrange:\n",
    "\n",
    "    [[[1], [2], [3], [4], [5], [6]]]\n",
    "    \"\"\"\n",
    "    return einops.rearrange(torch.arange(1, 7), \"a -> 1 a 1\")\n",
    "```\n",
    "</details>"
   ]
  },
  {
   "cell_type": "markdown",
   "metadata": {},
   "source": [
    "#### Exercise B.1 - temperature average\n"
   ]
  },
  {
   "cell_type": "code",
   "execution_count": null,
   "metadata": {},
   "outputs": [],
   "source": [
    "def temperatures_average(temps: Tensor) -> Tensor:\n",
    "    \"\"\"Return the average temperature for each week.\n",
    "\n",
    "    temps: a 1D temperature containing temperatures for each day.\n",
    "    Length will be a multiple of 7 and the first 7 days are for the first week, second 7 days for the second week, etc.\n",
    "\n",
    "    You can do this with a single call to reduce.\n",
    "    \"\"\"\n",
    "    assert len(temps) % 7 == 0\n",
    "    pass\n",
    "\n",
    "\n",
    "temps = Tensor([71, 72, 70, 75, 71, 72, 70, 68, 65, 60, 68, 60, 55, 59, 75, 80, 85, 80, 78, 72, 83])\n",
    "expected = Tensor([71.5714, 62.1429, 79.0])\n",
    "assert_all_close(temperatures_average(temps), expected)"
   ]
  },
  {
   "cell_type": "markdown",
   "metadata": {},
   "source": [
    "<details>\n",
    "<summary>Solution</summary>\n",
    "\n",
    "```python\n",
    "def temperatures_average(temps: Tensor) -> Tensor:\n",
    "    \"\"\"Return the average temperature for each week.\n",
    "\n",
    "    temps: a 1D temperature containing temperatures for each day.\n",
    "    Length will be a multiple of 7 and the first 7 days are for the first week, second 7 days for the second week, etc.\n",
    "\n",
    "    You can do this with a single call to reduce.\n",
    "    \"\"\"\n",
    "    assert len(temps) % 7 == 0\n",
    "    return einops.reduce(temps, \"(h 7) -> h\", \"mean\")\n",
    "```\n",
    "\n",
    "</details>"
   ]
  },
  {
   "cell_type": "markdown",
   "metadata": {},
   "source": [
    "#### Exercise B.2 - temperature difference"
   ]
  },
  {
   "cell_type": "code",
   "execution_count": null,
   "metadata": {},
   "outputs": [],
   "source": [
    "def temperatures_differences(temps: Tensor) -> Tensor:\n",
    "    \"\"\"For each day, subtract the average for the week the day belongs to.\n",
    "\n",
    "    temps: as above\n",
    "    \"\"\"\n",
    "    assert len(temps) % 7 == 0\n",
    "    pass\n",
    "\n",
    "\n",
    "expected = Tensor(\n",
    "    [\n",
    "        -0.5714,\n",
    "        0.4286,\n",
    "        -1.5714,\n",
    "        3.4286,\n",
    "        -0.5714,\n",
    "        0.4286,\n",
    "        -1.5714,\n",
    "        5.8571,\n",
    "        2.8571,\n",
    "        -2.1429,\n",
    "        5.8571,\n",
    "        -2.1429,\n",
    "        -7.1429,\n",
    "        -3.1429,\n",
    "        -4.0,\n",
    "        1.0,\n",
    "        6.0,\n",
    "        1.0,\n",
    "        -1.0,\n",
    "        -7.0,\n",
    "        4.0,\n",
    "    ]\n",
    ")\n",
    "actual = temperatures_differences(temps)\n",
    "assert_all_close(actual, expected)"
   ]
  },
  {
   "cell_type": "markdown",
   "metadata": {},
   "source": [
    "<details>\n",
    "<summary>Solution</summary>\n",
    "\n",
    "```python\n",
    "def temperatures_differences(temps: Tensor) -> Tensor:\n",
    "    \"\"\"For each day, subtract the average for the week the day belongs to.\n",
    "\n",
    "    temps: as above\n",
    "    \"\"\"\n",
    "    assert len(temps) % 7 == 0\n",
    "    avg = einops.repeat(temperatures_average(temps), \"w -> (w 7)\")\n",
    "\treturn temps - avg\n",
    "```\n",
    "</details>\n",
    "\n",
    "#### Exercise B.3 - temperature normalized"
   ]
  },
  {
   "cell_type": "code",
   "execution_count": null,
   "metadata": {},
   "outputs": [],
   "source": [
    "def temperatures_normalized(temps: Tensor) -> Tensor:\n",
    "    \"\"\"For each day, subtract the weekly average and divide by the weekly standard deviation.\n",
    "\n",
    "    temps: as above\n",
    "\n",
    "    Pass torch.std to reduce.\n",
    "    \"\"\"\n",
    "    pass\n",
    "\n",
    "\n",
    "expected = Tensor(\n",
    "    [\n",
    "        -0.3326,\n",
    "        0.2494,\n",
    "        -0.9146,\n",
    "        1.9954,\n",
    "        -0.3326,\n",
    "        0.2494,\n",
    "        -0.9146,\n",
    "        1.1839,\n",
    "        0.5775,\n",
    "        -0.4331,\n",
    "        1.1839,\n",
    "        -0.4331,\n",
    "        -1.4438,\n",
    "        -0.6353,\n",
    "        -0.8944,\n",
    "        0.2236,\n",
    "        1.3416,\n",
    "        0.2236,\n",
    "        -0.2236,\n",
    "        -1.5652,\n",
    "        0.8944,\n",
    "    ]\n",
    ")\n",
    "actual = temperatures_normalized(temps)\n",
    "assert_all_close(actual, expected)"
   ]
  },
  {
   "cell_type": "markdown",
   "metadata": {},
   "source": [
    "<details>\n",
    "<summary>Solution</summary>\n",
    "\n",
    "```python\n",
    "def temperatures_normalized(temps: Tensor) -> Tensor:\n",
    "    \"\"\"For each day, subtract the weekly average and divide by the weekly standard deviation.\n",
    "\n",
    "    temps: as above\n",
    "\n",
    "    Pass torch.std to reduce.\n",
    "    \"\"\"\n",
    "\tavg = einops.repeat(temperatures_average(temps), \"w -> (w 7)\")\n",
    "\tstd = einops.repeat(einops.reduce(temps, \"(h 7) -> h\", torch.std), \"w -> (w 7)\")\n",
    "\treturn (temps - avg) / std\n",
    "```\n",
    "</details>\n",
    "\n",
    "#### Exercise C - identity matrix"
   ]
  },
  {
   "cell_type": "code",
   "execution_count": null,
   "metadata": {},
   "outputs": [],
   "source": [
    "def identity_matrix(n: int) -> Tensor:\n",
    "    \"\"\"Return the identity matrix of size nxn.\n",
    "\n",
    "    Don't use torch.eye or similar.\n",
    "\n",
    "    Hint: you can do it with arange, rearrange, and ==.\n",
    "    Bonus: find a different way to do it.\n",
    "    \"\"\"\n",
    "    assert n >= 0\n",
    "    pass\n",
    "\n",
    "\n",
    "assert_all_equal(identity_matrix(3), Tensor([[1, 0, 0], [0, 1, 0], [0, 0, 1]]))\n",
    "assert_all_equal(identity_matrix(0), torch.zeros((0, 0)))"
   ]
  },
  {
   "cell_type": "markdown",
   "metadata": {},
   "source": [
    "<details>\n",
    "<summary>Solution</summary>\n",
    "\n",
    "```python\n",
    "def identity_matrix(n: int) -> Tensor\n",
    "    \"\"\"Return the identity matrix of size nxn.\n",
    "\n",
    "    Don't use torch.eye or similar.\n",
    "\n",
    "    Hint: you can do it with arange, rearrange, and ==.\n",
    "    Bonus: find a different way to do it.\n",
    "    \"\"\"\n",
    "    assert n >= 0\n",
    "    return (einops.rearrange(torch.arange(n), \"i->i 1\") == torch.arange(n)).float()\n",
    "```\n",
    "\n",
    "</details>\n",
    "\n",
    "#### Exercise D - sample distribution"
   ]
  },
  {
   "cell_type": "code",
   "execution_count": null,
   "metadata": {},
   "outputs": [],
   "source": [
    "def sample_distribution(probs: Tensor, n: int) -> Tensor:\n",
    "    \"\"\"Return n random samples from probs, where probs is a normalized probability distribution.\n",
    "\n",
    "    probs: shape (k,) where probs[i] is the probability of event i occurring.\n",
    "    n: number of random samples\n",
    "\n",
    "    Return: shape (n,) where out[i] is an integer indicating which event was sampled.\n",
    "\n",
    "    Use torch.rand and torch.cumsum to do this without any explicit loops.\n",
    "\n",
    "    Note: if you think your solution is correct but the test is failing, try increasing the value of n.\n",
    "    \"\"\"\n",
    "    assert abs(probs.sum() - 1.0) < 0.001\n",
    "    assert (probs >= 0).all()\n",
    "    pass\n",
    "\n",
    "\n",
    "n = 10000000\n",
    "probs = Tensor([0.05, 0.1, 0.1, 0.2, 0.15, 0.4])\n",
    "freqs = torch.bincount(sample_distribution(probs, n)) / n\n",
    "assert_all_close(freqs, probs, rtol=0.001, atol=0.001)"
   ]
  },
  {
   "cell_type": "markdown",
   "metadata": {},
   "source": [
    "<details>\n",
    "<summary>Solution</summary>\n",
    "\n",
    "```python\n",
    "def sample_distribution(probs: Tensorn: int) -> TeTensor\n",
    "    \"\"\"Return n random samples from probs, where probs is a normalized probability distribution.\n",
    "\n",
    "    probs: shape (k,) where probs[i] is the probability of event i occurring.\n",
    "    n: number of random samples\n",
    "\n",
    "    Return: shape (n,) where out[i] is an integer indicating which event was sampled.\n",
    "\n",
    "    Use torch.rand and torch.cumsum to do this without any explicit loops.\n",
    "\n",
    "    Note: if you think your solution is correct but the test is failing, try increasing the value of n.\n",
    "    \"\"\"\n",
    "    assert abs(probs.sum() - 1.0) < 0.001\n",
    "    assert (probs >= 0).all()\n",
    "    return (torch.rand(n, 1) > torch.cumsum(probs, dim=0)).sum(dim=-1)\n",
    "```\n",
    "</details>\n",
    "\n",
    "#### Exercise E - classifier accuracy"
   ]
  },
  {
   "cell_type": "code",
   "execution_count": null,
   "metadata": {},
   "outputs": [],
   "source": [
    "def classifier_accuracy(scores: Tensor, true_classes: Tensor) -> Tensor:\n",
    "    \"\"\"Return the fraction of inputs for which the maximum score corresponds to the true class for that input.\n",
    "\n",
    "    scores: shape (batch, n_classes). A higher score[b, i] means that the classifier thinks class i is more likely.\n",
    "    true_classes: shape (batch, ). true_classes[b] is an integer from [0...n_classes).\n",
    "\n",
    "    Use torch.argmax.\n",
    "    \"\"\"\n",
    "    assert true_classes.max() < scores.shape[1]\n",
    "    pass\n",
    "\n",
    "\n",
    "scores = Tensor([[0.75, 0.5, 0.25], [0.1, 0.5, 0.4], [0.1, 0.7, 0.2]])\n",
    "true_classes = Tensor([0, 1, 0])\n",
    "expected = 2.0 / 3.0\n",
    "assert classifier_accuracy(scores, true_classes) == expected"
   ]
  },
  {
   "cell_type": "markdown",
   "metadata": {},
   "source": [
    "<details>\n",
    "<summary>Solution</summary>\n",
    "\n",
    "```python\n",
    "def classifier_accuracy(scores: Tensortrue_classes: TeTensor TensTensor\n",
    "    \"\"\"Return the fraction of inputs for which the maximum score corresponds to the true class for that input.\n",
    "\n",
    "    scores: shape (batch, n_classes). A higher score[b, i] means that the classifier thinks class i is more likely.\n",
    "    true_classes: shape (batch, ). true_classes[b] is an integer from [0...n_classes).\n",
    "\n",
    "    Use torch.argmax.\n",
    "    \"\"\"\n",
    "    assert true_classes.max() < scores.shape[1]\n",
    "    return (scores.argmax(dim=1) == true_classes).float().mean()\n",
    "```\n",
    "</details>\n",
    "\n",
    "#### Exercise F.1 - total price indexing"
   ]
  },
  {
   "cell_type": "code",
   "execution_count": null,
   "metadata": {},
   "outputs": [],
   "source": [
    "def total_price_indexing(prices: Tensor, items: Tensor) -> float:\n",
    "    \"\"\"Given prices for each kind of item and a tensor of items purchased, return the total price.\n",
    "\n",
    "    prices: shape (k, ). prices[i] is the price of the ith item.\n",
    "    items: shape (n, ). A 1D tensor where each value is an item index from [0..k).\n",
    "\n",
    "    Use integer array indexing. The below document describes this for NumPy but it's the same in PyTorch:\n",
    "\n",
    "    https://numpy.org/doc/stable/user/basics.indexing.html#integer-array-indexing\n",
    "    \"\"\"\n",
    "    assert items.max() < prices.shape[0]\n",
    "    pass\n",
    "\n",
    "\n",
    "prices = Tensor([0.5, 1, 1.5, 2, 2.5])\n",
    "items = Tensor([0, 0, 1, 1, 4, 3, 2])\n",
    "assert total_price_indexing(prices, items) == 9.0"
   ]
  },
  {
   "cell_type": "markdown",
   "metadata": {},
   "source": [
    "<details>\n",
    "<summary>Solution</summary>\n",
    "\n",
    "```python\n",
    "def total_price_indexing(prices: Tensoritems: TeTensor float:\n",
    "    \"\"\"Given prices for each kind of item and a tensor of items purchased, return the total price.\n",
    "\n",
    "    prices: shape (k, ). prices[i] is the price of the ith item.\n",
    "    items: shape (n, ). A 1D tensor where each value is an item index from [0..k).\n",
    "\n",
    "    Use integer array indexing. The below document describes this for NumPy but it's the same in PyTorch:\n",
    "\n",
    "    https://numpy.org/doc/stable/user/basics.indexing.html#integer-array-indexing\n",
    "    \"\"\"\n",
    "    assert items.max() < prices.shape[0]\n",
    "    return prices[items].sum().item()\n",
    "```\n",
    "</details>\n",
    "\n",
    " "
   ]
  },
  {
   "cell_type": "markdown",
   "metadata": {},
   "source": [
    "#### Exercise F.2 - gather 2D"
   ]
  },
  {
   "cell_type": "code",
   "execution_count": null,
   "metadata": {},
   "outputs": [],
   "source": [
    "def gather_2d(matrix: Tensor, indexes: Tensor) -> Tensor:\n",
    "    \"\"\"Perform a gather operation along the second dimension.\n",
    "\n",
    "    matrix: shape (m, n)\n",
    "    indexes: shape (m, k)\n",
    "\n",
    "    Return: shape (m, k). out[i][j] = matrix[i][indexes[i][j]]\n",
    "\n",
    "    For this problem, the test already passes and it's your job to write at least three asserts relating the arguments and the output. This is a tricky function and worth spending some time to wrap your head around its behavior.\n",
    "\n",
    "    See: https://pytorch.org/docs/stable/generated/torch.gather.html?highlight=gather#torch.gather\n",
    "    \"\"\"\n",
    "    \"TODO: YOUR CODE HERE\"\n",
    "    out = matrix.gather(1, indexes)\n",
    "    \"TODO: YOUR CODE HERE\"\n",
    "    return out\n",
    "\n",
    "\n",
    "matrix = torch.arange(15).view(3, 5)\n",
    "indexes = torch.tensor([[4], [3], [2]])\n",
    "expected = Tensor([[4], [8], [12]])\n",
    "assert_all_equal(gather_2d(matrix, indexes), expected)\n",
    "indexes2 = torch.tensor([[2, 4], [1, 3], [0, 2]])\n",
    "expected2 = Tensor([[2, 4], [6, 8], [10, 12]])\n",
    "assert_all_equal(gather_2d(matrix, indexes2), expected2)"
   ]
  },
  {
   "cell_type": "markdown",
   "metadata": {},
   "source": [
    "<details>\n",
    "<summary>Solution</summary>\n",
    "\n",
    "```python\n",
    "def gather_2d(matrix: Tensor, indexes: Tensor) -> Tensor:\n",
    "    \"\"\"Perform a gather operation along the second dimension.\n",
    "\n",
    "    matrix: shape (m, n)\n",
    "    indexes: shape (m, k)\n",
    "\n",
    "    Return: shape (m, k). out[i][j] = matrix[i][indexes[i][j]]\n",
    "\n",
    "    For this problem, the test already passes and it's your job to write at least three asserts relating the arguments and the output. This is a tricky function and worth spending some time to wrap your head around its behavior.\n",
    "\n",
    "    See: https://pytorch.org/docs/stable/generated/torch.gather.html?highlight=gather#torch.gather\n",
    "    \"\"\"\n",
    "\tassert matrix.ndim == indexes.ndim\n",
    "\tassert indexes.shape[0] <= matrix.shape[0]\n",
    "\tout = matrix.gather(1, indexes)\n",
    "\tassert out.shape == indexes.shape\n",
    "\treturn out\n",
    "```\n",
    "</details>\n",
    "\n",
    "#### Exercise F.3 - total price gather"
   ]
  },
  {
   "cell_type": "code",
   "execution_count": null,
   "metadata": {},
   "outputs": [],
   "source": [
    "def total_price_gather(prices: Tensor, items: Tensor) -> float:\n",
    "    \"\"\"Compute the same as total_price_indexing, but use torch.gather.\"\"\"\n",
    "    assert items.max() < prices.shape[0]\n",
    "    pass\n",
    "\n",
    "\n",
    "prices = Tensor([0.5, 1, 1.5, 2, 2.5])\n",
    "items = Tensor([0, 0, 1, 1, 4, 3, 2])\n",
    "assert total_price_gather(prices, items) == 9.0"
   ]
  },
  {
   "cell_type": "markdown",
   "metadata": {},
   "source": [
    "<details>\n",
    "<summary>Solution</summary>\n",
    "\n",
    "```python\n",
    "def total_price_gather(prices: Tensoritems: TeTensor float:\n",
    "    \"\"\"Compute the same as total_price_indexing, but use torch.gather.\"\"\"\n",
    "    assert items.max() < prices.shape[0]\n",
    "    return prices.gather(0, items).sum().item()\n",
    "```\n",
    "</details>\n",
    "\n",
    "#### Exercise G - indexing"
   ]
  },
  {
   "cell_type": "code",
   "execution_count": null,
   "metadata": {},
   "outputs": [],
   "source": [
    "def integer_array_indexing(matrix: Tensor, coords: Tensor) -> Tensor:\n",
    "    \"\"\"Return the values at each coordinate using integer array indexing.\n",
    "\n",
    "    For details on integer array indexing, see:\n",
    "    https://numpy.org/doc/stable/user/basics.indexing.html#integer-array-indexing\n",
    "\n",
    "    matrix: shape (d_0, d_1, ..., d_n)\n",
    "    coords: shape (batch, n)\n",
    "\n",
    "    Return: (batch, )\n",
    "    \"\"\"\n",
    "    pass\n",
    "\n",
    "\n",
    "mat_2d = torch.arange(15).view(3, 5)\n",
    "coords_2d = Tensor([[0, 1], [0, 4], [1, 4]])\n",
    "actual = integer_array_indexing(mat_2d, coords_2d)\n",
    "assert_all_equal(actual, Tensor([1, 4, 9]))\n",
    "mat_3d = torch.arange(2 * 3 * 4).view((2, 3, 4))\n",
    "coords_3d = Tensor([[0, 0, 0], [0, 1, 1], [0, 2, 2], [1, 0, 3], [1, 2, 0]])\n",
    "actual = integer_array_indexing(mat_3d, coords_3d)\n",
    "assert_all_equal(actual, Tensor([0, 5, 10, 15, 20]))"
   ]
  },
  {
   "cell_type": "markdown",
   "metadata": {},
   "source": [
    "<details>\n",
    "<summary>Solution</summary>\n",
    "\n",
    "```python\n",
    "def integer_array_indexing(matrix: Tensorcoords: TeTensor TensTensor\n",
    "    \"\"\"Return the values at each coordinate using integer array indexing.\n",
    "\n",
    "    For details on integer array indexing, see:\n",
    "    https://numpy.org/doc/stable/user/basics.indexing.html#integer-array-indexing\n",
    "\n",
    "    matrix: shape (d_0, d_1, ..., d_n)\n",
    "    coords: shape (batch, n)\n",
    "\n",
    "    Return: (batch, )\n",
    "    \"\"\"\n",
    "    return matrix[tuple(coords.T)]\n",
    "```\n",
    "\n",
    "</details>\n",
    "\n",
    "#### Exercise H.1 - batched logsumexp"
   ]
  },
  {
   "cell_type": "code",
   "execution_count": null,
   "metadata": {},
   "outputs": [],
   "source": [
    "def batched_logsumexp(matrix: Tensor) -> Tensor:\n",
    "    \"\"\"For each row of the matrix, compute log(sum(exp(row))) in a numerically stable way.\n",
    "\n",
    "    matrix: shape (batch, n)\n",
    "\n",
    "    Return: (batch, ). For each i, out[i] = log(sum(exp(matrix[i]))).\n",
    "\n",
    "    Do this without using PyTorch's logsumexp function.\n",
    "\n",
    "    A couple useful blogs about this function:\n",
    "    - https://leimao.github.io/blog/LogSumExp/\n",
    "    - https://gregorygundersen.com/blog/2020/02/09/log-sum-exp/\n",
    "    \"\"\"\n",
    "    pass\n",
    "\n",
    "\n",
    "matrix = Tensor([[-1000, -1000, -1000, -1000], [1000, 1000, 1000, 1000]])\n",
    "expected = Tensor([-1000 + math.log(4), 1000 + math.log(4)])\n",
    "actual = batched_logsumexp(matrix)\n",
    "assert_all_close(actual, expected)\n",
    "matrix2 = torch.randn((10, 20))\n",
    "expected2 = torch.logsumexp(matrix2, dim=-1)\n",
    "actual2 = batched_logsumexp(matrix2)\n",
    "assert_all_close(actual2, expected2)"
   ]
  },
  {
   "cell_type": "markdown",
   "metadata": {},
   "source": [
    "<details>\n",
    "<summary>Solution</summary>\n",
    "\n",
    "```python\n",
    "def batched_logsumexp(matrix: Tensor) -> Tensor:\n",
    "    \"\"\"For each row of the matrix, compute log(sum(exp(row))) in a numerically stable way.\n",
    "\n",
    "    matrix: shape (batch, n)\n",
    "\n",
    "    Return: (batch, ). For each i, out[i] = log(sum(exp(matrix[i]))).\n",
    "\n",
    "    Do this without using PyTorch's logsumexp function.\n",
    "\n",
    "    A couple useful blogs about this function:\n",
    "    - https://leimao.github.io/blog/LogSumExp/\n",
    "    - https://gregorygundersen.com/blog/2020/02/09/log-sum-exp/\n",
    "    \"\"\"\n",
    "    C = matrix.max(dim=-1).values\n",
    "\texps = torch.exp(matrix - einops.rearrange(C, \"n -> n 1\"))\n",
    "\treturn C + torch.log(torch.sum(exps, dim=-1))\n",
    "```\n",
    "</details>\n",
    "\n",
    "#### Exercise H.2 - batched softmax"
   ]
  },
  {
   "cell_type": "code",
   "execution_count": null,
   "metadata": {},
   "outputs": [],
   "source": [
    "def batched_softmax(matrix: Tensor) -> Tensor:\n",
    "    \"\"\"For each row of the matrix, compute softmax(row).\n",
    "\n",
    "    Do this without using PyTorch's softmax function.\n",
    "    Instead, use the definition of softmax: https://en.wikipedia.org/wiki/Softmax_function\n",
    "\n",
    "    matrix: shape (batch, n)\n",
    "\n",
    "    Return: (batch, n). For each i, out[i] should sum to 1.\n",
    "    \"\"\"\n",
    "    pass\n",
    "\n",
    "\n",
    "matrix = torch.arange(1, 6).view((1, 5)).float().log()\n",
    "expected = torch.arange(1, 6).view((1, 5)) / 15.0\n",
    "actual = batched_softmax(matrix)\n",
    "assert_all_close(actual, expected)\n",
    "for i in [0.12, 3.4, -5, 6.7]:\n",
    "    assert_all_close(actual, batched_softmax(matrix + i))\n",
    "matrix2 = torch.rand((10, 20))\n",
    "actual2 = batched_softmax(matrix2)\n",
    "assert actual2.min() >= 0.0\n",
    "assert actual2.max() <= 1.0\n",
    "assert_all_equal(actual2.argsort(), matrix2.argsort())\n",
    "assert_all_close(actual2.sum(dim=-1), torch.ones(matrix2.shape[:-1]))"
   ]
  },
  {
   "cell_type": "markdown",
   "metadata": {},
   "source": [
    "<details>\n",
    "<summary>Solution</summary>\n",
    "\n",
    "```python\n",
    "def batched_softmax(matrix: Tensor-> TeTensor\n",
    "    \"\"\"For each row of the matrix, compute softmax(row).\n",
    "\n",
    "    Do this without using PyTorch's softmax function.\n",
    "    Instead, use the definition of softmax: https://en.wikipedia.org/wiki/Softmax_function\n",
    "\n",
    "    matrix: shape (batch, n)\n",
    "\n",
    "    Return: (batch, n). For each i, out[i] should sum to 1.\n",
    "    \"\"\"\n",
    "    exp = matrix.exp()\n",
    "\treturn exp / exp.sum(dim=-1, keepdim=True)\n",
    "```\n",
    "</details>\n",
    "\n",
    "#### Exercise H.3 - batched logsoftmax"
   ]
  },
  {
   "cell_type": "code",
   "execution_count": null,
   "metadata": {},
   "outputs": [],
   "source": [
    "def batched_logsoftmax(matrix: Tensor) -> Tensor:\n",
    "    \"\"\"Compute log(softmax(row)) for each row of the matrix.\n",
    "\n",
    "    matrix: shape (batch, n)\n",
    "\n",
    "    Return: (batch, n). For each i, out[i] should sum to 1.\n",
    "\n",
    "    Do this without using PyTorch's logsoftmax function.\n",
    "    For each row, subtract the maximum first to avoid overflow if the row contains large values.\n",
    "    \"\"\"\n",
    "    pass\n",
    "\n",
    "\n",
    "matrix = torch.arange(1, 6).view((1, 5)).float()\n",
    "start = 1000\n",
    "matrix2 = torch.arange(start + 1, start + 6).view((1, 5)).float()\n",
    "actual = batched_logsoftmax(matrix2)\n",
    "expected = Tensor([[-4.4519, -3.4519, -2.4519, -1.4519, -0.4519]])\n",
    "assert_all_close(actual, expected)"
   ]
  },
  {
   "cell_type": "markdown",
   "metadata": {},
   "source": [
    "<details>\n",
    "<summary>Solution</summary>\n",
    "\n",
    "```python\n",
    "def batched_logsoftmax(matrix: Tensor) -> Tensor:\n",
    "    \"\"\"Compute log(softmax(row)) for each row of the matrix.\n",
    "\n",
    "    matrix: shape (batch, n)\n",
    "\n",
    "    Return: (batch, n). For each i, out[i] should sum to 1.\n",
    "\n",
    "    Do this without using PyTorch's logsoftmax function.\n",
    "    For each row, subtract the maximum first to avoid overflow if the row contains large values.\n",
    "    \"\"\"\n",
    "    C = matrix.max(dim=1, keepdim=True).values\n",
    "\treturn matrix - C - (matrix - C).exp().sum(dim=1, keepdim=True).log()\n",
    "```\n",
    "</details>\n",
    "\n",
    "#### Exercise H.4 - batched cross entropy loss"
   ]
  },
  {
   "cell_type": "code",
   "execution_count": null,
   "metadata": {},
   "outputs": [],
   "source": [
    "def batched_cross_entropy_loss(logits: Tensor, true_labels: Tensor) -> Tensor:\n",
    "    \"\"\"Compute the cross entropy loss for each example in the batch.\n",
    "\n",
    "    logits: shape (batch, classes). logits[i][j] is the unnormalized prediction for example i and class j.\n",
    "    true_labels: shape (batch, ). true_labels[i] is an integer index representing the true class for example i.\n",
    "\n",
    "    Return: shape (batch, ). out[i] is the loss for example i.\n",
    "\n",
    "    Hint: convert the logits to log-probabilities using your batched_logsoftmax from above.\n",
    "    Then the loss for an example is just the negative of the log-probability that the model assigned to the true class. Use torch.gather to perform the indexing.\n",
    "    \"\"\"\n",
    "    pass\n",
    "\n",
    "\n",
    "logits = Tensor([[float(\"-inf\"), float(\"-inf\"), 0], [1 / 3, 1 / 3, 1 / 3], [float(\"-inf\"), 0, 0]])\n",
    "true_labels = Tensor([2, 0, 0])\n",
    "expected = Tensor([0.0, math.log(3), float(\"inf\")])\n",
    "actual = batched_cross_entropy_loss(logits, true_labels)\n",
    "assert_all_close(actual, expected)"
   ]
  },
  {
   "cell_type": "markdown",
   "metadata": {},
   "source": [
    "<details>\n",
    "<summary>Solution</summary>\n",
    "\n",
    "```python\n",
    "def batched_cross_entropy_loss(logits: Tensor, true_labels: Tensor) -> Tensor:\n",
    "    \"\"\"Compute the cross entropy loss for each example in the batch.\n",
    "\n",
    "    logits: shape (batch, classes). logits[i][j] is the unnormalized prediction for example i and class j.\n",
    "    true_labels: shape (batch, ). true_labels[i] is an integer index representing the true class for example i.\n",
    "\n",
    "    Return: shape (batch, ). out[i] is the loss for example i.\n",
    "\n",
    "    Hint: convert the logits to log-probabilities using your batched_logsoftmax from above.\n",
    "    Then the loss for an example is just the negative of the log-probability that the model assigned to the true class. Use torch.gather to perform the indexing.\n",
    "    \"\"\"\n",
    "\tassert logits.shape[0] == true_labels.shape[0]\n",
    "\tassert true_labels.max() < logits.shape[1]\n",
    "\n",
    "    logprobs = batched_logsoftmax(logits)\n",
    "    indices = einops.rearrange(true_labels, \"n -> n 1\")\n",
    "    pred_at_index = logprobs.gather(1, indices)\n",
    "    return - einops.rearrange(pred_at_index, \"n 1 -> n\")\n",
    "```\n",
    "</details>\n",
    "\n",
    "#### Exercise I.1 - collect rows"
   ]
  },
  {
   "cell_type": "code",
   "execution_count": null,
   "metadata": {},
   "outputs": [],
   "source": [
    "def collect_rows(matrix: Tensor, row_indexes: Tensor) -> Tensor:\n",
    "    \"\"\"Return a 2D matrix whose rows are taken from the input matrix in order according to row_indexes.\n",
    "\n",
    "    matrix: shape (m, n)\n",
    "    row_indexes: shape (k,). Each value is an integer in [0..m).\n",
    "\n",
    "    Return: shape (k, n). out[i] is matrix[row_indexes[i]].\n",
    "    \"\"\"\n",
    "    assert row_indexes.max() < matrix.shape[0]\n",
    "    pass\n",
    "\n",
    "\n",
    "matrix = torch.arange(15).view((5, 3))\n",
    "row_indexes = Tensor([0, 2, 1, 0])\n",
    "actual = collect_rows(matrix, row_indexes)\n",
    "expected = Tensor([[0, 1, 2], [6, 7, 8], [3, 4, 5], [0, 1, 2]])\n",
    "assert_all_equal(actual, expected)"
   ]
  },
  {
   "cell_type": "markdown",
   "metadata": {},
   "source": [
    "<details>\n",
    "<summary>Solution</summary>\n",
    "\n",
    "```python\n",
    "def collect_rows(matrix: Tensor, row_indexes: Tensor) -> Tensor:\n",
    "    \"\"\"Return a 2D matrix whose rows are taken from the input matrix in order according to row_indexes.\n",
    "\n",
    "    matrix: shape (m, n)\n",
    "    row_indexes: shape (k,). Each value is an integer in [0..m).\n",
    "\n",
    "    Return: shape (k, n). out[i] is matrix[row_indexes[i]].\n",
    "    \"\"\"\n",
    "    assert row_indexes.max() < matrix.shape[0]\n",
    "    return matrix[row_indexes]\n",
    "```\n",
    "</details>\n",
    "\n",
    "#### Exercise I.2 - collect columns"
   ]
  },
  {
   "cell_type": "code",
   "execution_count": null,
   "metadata": {},
   "outputs": [],
   "source": [
    "def collect_columns(matrix: Tensor, column_indexes: Tensor) -> Tensor:\n",
    "    \"\"\"Return a 2D matrix whose columns are taken from the input matrix in order according to column_indexes.\n",
    "\n",
    "    matrix: shape (m, n)\n",
    "    column_indexes: shape (k,). Each value is an integer in [0..n).\n",
    "\n",
    "    Return: shape (m, k). out[:, i] is matrix[:, column_indexes[i]].\n",
    "    \"\"\"\n",
    "    assert column_indexes.max() < matrix.shape[1]\n",
    "    pass\n",
    "\n",
    "\n",
    "matrix = torch.arange(15).view((5, 3))\n",
    "column_indexes = Tensor([0, 2, 1, 0])\n",
    "actual = collect_columns(matrix, column_indexes)\n",
    "expected = Tensor([[0, 2, 1, 0], [3, 5, 4, 3], [6, 8, 7, 6], [9, 11, 10, 9], [12, 14, 13, 12]])\n",
    "assert_all_equal(actual, expected)"
   ]
  },
  {
   "cell_type": "markdown",
   "metadata": {},
   "source": [
    "<details>\n",
    "<summary>Solution</summary>\n",
    "\n",
    "```python\n",
    "def collect_columns(matrix: Tensor, column_indexes: Tensor) -> Tensor:\n",
    "    \"\"\"Return a 2D matrix whose columns are taken from the input matrix in order according to column_indexes.\n",
    "\n",
    "    matrix: shape (m, n)\n",
    "    column_indexes: shape (k,). Each value is an integer in [0..n).\n",
    "\n",
    "    Return: shape (m, k). out[:, i] is matrix[:, column_indexes[i]].\n",
    "    \"\"\"\n",
    "    assert column_indexes.max() < matrix.shape[1]\n",
    "    return matrix[:, column_indexes]\n",
    "```\n",
    "</details>"
   ]
  },
  {
   "cell_type": "markdown",
   "metadata": {},
   "source": [
    "## Einsum\n",
    "\n",
    "Einsum is a very useful function for performing linear operations, which you'll probably be using a lot during this programme.\n",
    "\n",
    "> Note - we'll be using the `einops.einsum` version of the function, which works differently to the more conventional `torch.einsum`:\n",
    ">\n",
    "> * `einops.einsum` has the arrays as the first arguments, and uses spaces to separate dimensions in the string.\n",
    "> * `torch.einsum` has the string as its first argument, and doesn't use spaces to separate dimensions (each dim is represented by a single character).\n",
    ">\n",
    "> For instance, `torch.einsum(\"ij,i->j\", A, b)` is equivalent to `einops.einsum(A, b, \"i j, i -> j\")`. (Note, einops doesn't care whether there are spaces either side of `,` and `->`, so you don't need to match this syntax exactly.)\n",
    "\n",
    "Although there are many different kinds of operations you can perform, they are all derived from three key rules:\n",
    "\n",
    "1. Repeating letters in different inputs means those values will be multiplied, and those products will be in the output.\n",
    "    * For example, `M = einops.einsum(A, B, \"i j, i j -> i j\")` just corresponds to the elementwise product `M = A * B` (because $M_{ij}=A_{ij}B_{ij}$).\n",
    "2. Omitting a letter means that the axis will be summed over.\n",
    "    * For example, if `x` is a 2D array with shape `(I, J)`, then `einops.einsum(x, \"i j -> i\")` will be a 1D array of length `I` containing the row sums of `x` (we're summing along the `j`-index, i.e. across rows).\n",
    "3. We can return the unsummed axes in any order.\n",
    "    * For example, `einops.einsum(x, \"i j k -> k j i\")` does the same thing as `einops.rearrange(x, \"i j k -> k j i\")`.\n",
    "\n",
    "*Note - the einops creators supposedly have plans to support shape rearrangement, e.g. with operations like `einops.einsum(x, y, \"i j, j k l -> i (k l)\")` (i.e. combining the features of rearrange and einsum), so we can all look forward to that day!*\n",
    "\n",
    "\n",
    "### Reading\n",
    "If this intro was too short, you can [read more about it here](https://rockt.github.io/2018/04/30/einsum)."
   ]
  },
  {
   "cell_type": "markdown",
   "metadata": {},
   "source": [
    "### Einsum exercises\n",
    "\n",
    "```c\n",
    "Difficulty: 🔴🔴⚪⚪⚪\n",
    "Importance: 🔵🔵🔵🔵⚪\n",
    "\n",
    "You should spend up to 15-20 minutes on these exercises collectively.\n",
    "\n",
    "If you think you get the general idea, then you can skip to the next section.\n",
    "```\n",
    "\n",
    "In the following exercises, you'll write simple functions using `einsum` which replicate the functionality of standard NumPy functions: trace, matrix multiplication, inner and outer products. We've also included some test functions which you should run.\n",
    "\n",
    "Note - this version of einsum will require that you include `->`, even if you're summing to a scalar (i.e. the right hand side of your string expression is empty).\n"
   ]
  },
  {
   "cell_type": "code",
   "execution_count": null,
   "metadata": {},
   "outputs": [],
   "source": [
    "def einsum_trace(mat: np.ndarray):\n",
    "    \"\"\"\n",
    "    Returns the same as `np.trace`.\n",
    "    \"\"\"\n",
    "    pass\n",
    "\n",
    "\n",
    "def einsum_mv(mat: np.ndarray, vec: np.ndarray):\n",
    "    \"\"\"\n",
    "    Returns the same as `np.matmul`, when `mat` is a 2D array and `vec` is 1D.\n",
    "    \"\"\"\n",
    "    pass\n",
    "\n",
    "\n",
    "def einsum_mm(mat1: np.ndarray, mat2: np.ndarray):\n",
    "    \"\"\"\n",
    "    Returns the same as `np.matmul`, when `mat1` and `mat2` are both 2D arrays.\n",
    "    \"\"\"\n",
    "    pass\n",
    "\n",
    "\n",
    "def einsum_inner(vec1: np.ndarray, vec2: np.ndarray):\n",
    "    \"\"\"\n",
    "    Returns the same as `np.inner`.\n",
    "    \"\"\"\n",
    "    pass\n",
    "\n",
    "\n",
    "def einsum_outer(vec1: np.ndarray, vec2: np.ndarray):\n",
    "    \"\"\"\n",
    "    Returns the same as `np.outer`.\n",
    "    \"\"\"\n",
    "    pass\n",
    "\n",
    "\n",
    "tests.test_einsum_trace(einsum_trace)\n",
    "tests.test_einsum_mv(einsum_mv)\n",
    "tests.test_einsum_mm(einsum_mm)\n",
    "tests.test_einsum_inner(einsum_inner)\n",
    "tests.test_einsum_outer(einsum_outer)"
   ]
  },
  {
   "cell_type": "markdown",
   "metadata": {},
   "source": [
    "<details>\n",
    "<summary>Solution</summary>\n",
    "\n",
    "\n",
    "```python\n",
    "def einsum_trace(mat: np.ndarray):\n",
    "    \"\"\"\n",
    "    Returns the same as `np.trace`.\n",
    "    \"\"\"\n",
    "    # SOLUTION\n",
    "    return einops.einsum(mat, \"i i ->\")\n",
    "\n",
    "def einsum_mv(mat: np.ndarray, vec: np.ndarray):\n",
    "    \"\"\"\n",
    "    Returns the same as `np.matmul`, when `mat` is a 2D array and `vec` is 1D.\n",
    "    \"\"\"\n",
    "    # SOLUTION\n",
    "    return einops.einsum(mat, vec, \"i j, j -> i\")\n",
    "\n",
    "def einsum_mm(mat1: np.ndarray, mat2: np.ndarray):\n",
    "    \"\"\"\n",
    "    Returns the same as `np.matmul`, when `mat1` and `mat2` are both 2D arrays.\n",
    "    \"\"\"\n",
    "    # SOLUTION\n",
    "    return einops.einsum(mat1, mat2, \"i j, j k -> i k\")\n",
    "\n",
    "def einsum_inner(vec1: np.ndarray, vec2: np.ndarray):\n",
    "    \"\"\"\n",
    "    Returns the same as `np.inner`.\n",
    "    \"\"\"\n",
    "    # SOLUTION\n",
    "    return einops.einsum(vec1, vec2, \"i, i ->\")\n",
    "\n",
    "def einsum_outer(vec1: np.ndarray, vec2: np.ndarray):\n",
    "    \"\"\"\n",
    "    Returns the same as `np.outer`.\n",
    "    \"\"\"\n",
    "    # SOLUTION\n",
    "    return einops.einsum(vec1, vec2, \"i, j -> i j\")\n",
    "```\n",
    "</details>\n",
    "\n",
    "\n",
    "# Congratulations! 🎉🎉"
   ]
  }
 ],
 "metadata": {
  "kernelspec": {
   "display_name": "venv",
   "language": "python",
   "name": "python3"
  },
  "language_info": {
   "codemirror_mode": {
    "name": "ipython",
    "version": 3
   },
   "file_extension": ".py",
   "mimetype": "text/x-python",
   "name": "python",
   "nbconvert_exporter": "python",
   "pygments_lexer": "ipython3",
   "version": "3.11.9"
  }
 },
 "nbformat": 4,
 "nbformat_minor": 0
}
